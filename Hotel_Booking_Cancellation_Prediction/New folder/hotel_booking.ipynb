{
 "cells": [
  {
   "cell_type": "code",
   "execution_count": 10,
   "metadata": {
    "collapsed": true
   },
   "outputs": [],
   "source": [
    "# !pip install pandas\n",
    "# !pip install numpy\n",
    "# !pip install seaborn\n",
    "# !pip install matplotlib\n",
    "# !pip install scikit-learn\n",
    "# !pip install tensorflow\n",
    "# !pip install kmodes"
   ]
  },
  {
   "cell_type": "code",
   "execution_count": 11,
   "outputs": [],
   "source": [
    "import re\n",
    "import pickle\n",
    "\n",
    "import numpy as np\n",
    "import pandas as pd\n",
    "import seaborn as sns\n",
    "import matplotlib.pyplot as plt\n",
    "\n",
    "from sklearn.preprocessing import StandardScaler\n",
    "from sklearn.model_selection import train_test_split\n",
    "from sklearn.model_selection import GridSearchCV\n",
    "from sklearn.model_selection import cross_val_score\n",
    "from sklearn.model_selection import StratifiedKFold\n",
    "from sklearn.pipeline import Pipeline\n",
    "from sklearn.dummy import DummyClassifier\n",
    "from sklearn.linear_model import LogisticRegression\n",
    "from sklearn.tree import DecisionTreeClassifier\n",
    "from sklearn.ensemble import BaggingClassifier, RandomForestClassifier\n",
    "from sklearn.metrics import confusion_matrix\n",
    "from sklearn.metrics import classification_report\n",
    "\n",
    "from kmodes.kprototypes import KPrototypes\n",
    "\n",
    "from keras.models import Sequential\n",
    "from keras.layers import Dense, Dropout\n",
    "from keras.wrappers.scikit_learn import KerasRegressor\n",
    "from keras.callbacks import EarlyStopping\n",
    "from keras.models import load_model\n",
    "\n",
    "\n",
    "%matplotlib inline"
   ],
   "metadata": {
    "collapsed": false
   }
  },
  {
   "cell_type": "code",
   "execution_count": 12,
   "outputs": [
    {
     "data": {
      "text/plain": "   IsCanceled  LeadTime  ArrivalDateYear ArrivalDateMonth  \\\n0           0       342             2015             July   \n1           0       737             2015             July   \n2           0         7             2015             July   \n3           0        13             2015             July   \n4           0        14             2015             July   \n\n   ArrivalDateWeekNumber  ArrivalDateDayOfMonth  StaysInWeekendNights  \\\n0                     27                      1                     0   \n1                     27                      1                     0   \n2                     27                      1                     0   \n3                     27                      1                     0   \n4                     27                      1                     0   \n\n   StaysInWeekNights  Adults  Children  ...        Agent      Company  \\\n0                  0       2       0.0  ...         NULL         NULL   \n1                  0       2       0.0  ...         NULL         NULL   \n2                  1       1       0.0  ...         NULL         NULL   \n3                  1       1       0.0  ...          304         NULL   \n4                  2       2       0.0  ...          240         NULL   \n\n  DaysInWaitingList CustomerType   ADR  RequiredCarParkingSpaces  \\\n0                 0    Transient   0.0                         0   \n1                 0    Transient   0.0                         0   \n2                 0    Transient  75.0                         0   \n3                 0    Transient  75.0                         0   \n4                 0    Transient  98.0                         0   \n\n   TotalOfSpecialRequests  ReservationStatus ReservationStatusDate is_h1  \n0                       0          Check-Out            2015-07-01     1  \n1                       0          Check-Out            2015-07-01     1  \n2                       0          Check-Out            2015-07-02     1  \n3                       0          Check-Out            2015-07-02     1  \n4                       1          Check-Out            2015-07-03     1  \n\n[5 rows x 32 columns]",
      "text/html": "<div>\n<style scoped>\n    .dataframe tbody tr th:only-of-type {\n        vertical-align: middle;\n    }\n\n    .dataframe tbody tr th {\n        vertical-align: top;\n    }\n\n    .dataframe thead th {\n        text-align: right;\n    }\n</style>\n<table border=\"1\" class=\"dataframe\">\n  <thead>\n    <tr style=\"text-align: right;\">\n      <th></th>\n      <th>IsCanceled</th>\n      <th>LeadTime</th>\n      <th>ArrivalDateYear</th>\n      <th>ArrivalDateMonth</th>\n      <th>ArrivalDateWeekNumber</th>\n      <th>ArrivalDateDayOfMonth</th>\n      <th>StaysInWeekendNights</th>\n      <th>StaysInWeekNights</th>\n      <th>Adults</th>\n      <th>Children</th>\n      <th>...</th>\n      <th>Agent</th>\n      <th>Company</th>\n      <th>DaysInWaitingList</th>\n      <th>CustomerType</th>\n      <th>ADR</th>\n      <th>RequiredCarParkingSpaces</th>\n      <th>TotalOfSpecialRequests</th>\n      <th>ReservationStatus</th>\n      <th>ReservationStatusDate</th>\n      <th>is_h1</th>\n    </tr>\n  </thead>\n  <tbody>\n    <tr>\n      <th>0</th>\n      <td>0</td>\n      <td>342</td>\n      <td>2015</td>\n      <td>July</td>\n      <td>27</td>\n      <td>1</td>\n      <td>0</td>\n      <td>0</td>\n      <td>2</td>\n      <td>0.0</td>\n      <td>...</td>\n      <td>NULL</td>\n      <td>NULL</td>\n      <td>0</td>\n      <td>Transient</td>\n      <td>0.0</td>\n      <td>0</td>\n      <td>0</td>\n      <td>Check-Out</td>\n      <td>2015-07-01</td>\n      <td>1</td>\n    </tr>\n    <tr>\n      <th>1</th>\n      <td>0</td>\n      <td>737</td>\n      <td>2015</td>\n      <td>July</td>\n      <td>27</td>\n      <td>1</td>\n      <td>0</td>\n      <td>0</td>\n      <td>2</td>\n      <td>0.0</td>\n      <td>...</td>\n      <td>NULL</td>\n      <td>NULL</td>\n      <td>0</td>\n      <td>Transient</td>\n      <td>0.0</td>\n      <td>0</td>\n      <td>0</td>\n      <td>Check-Out</td>\n      <td>2015-07-01</td>\n      <td>1</td>\n    </tr>\n    <tr>\n      <th>2</th>\n      <td>0</td>\n      <td>7</td>\n      <td>2015</td>\n      <td>July</td>\n      <td>27</td>\n      <td>1</td>\n      <td>0</td>\n      <td>1</td>\n      <td>1</td>\n      <td>0.0</td>\n      <td>...</td>\n      <td>NULL</td>\n      <td>NULL</td>\n      <td>0</td>\n      <td>Transient</td>\n      <td>75.0</td>\n      <td>0</td>\n      <td>0</td>\n      <td>Check-Out</td>\n      <td>2015-07-02</td>\n      <td>1</td>\n    </tr>\n    <tr>\n      <th>3</th>\n      <td>0</td>\n      <td>13</td>\n      <td>2015</td>\n      <td>July</td>\n      <td>27</td>\n      <td>1</td>\n      <td>0</td>\n      <td>1</td>\n      <td>1</td>\n      <td>0.0</td>\n      <td>...</td>\n      <td>304</td>\n      <td>NULL</td>\n      <td>0</td>\n      <td>Transient</td>\n      <td>75.0</td>\n      <td>0</td>\n      <td>0</td>\n      <td>Check-Out</td>\n      <td>2015-07-02</td>\n      <td>1</td>\n    </tr>\n    <tr>\n      <th>4</th>\n      <td>0</td>\n      <td>14</td>\n      <td>2015</td>\n      <td>July</td>\n      <td>27</td>\n      <td>1</td>\n      <td>0</td>\n      <td>2</td>\n      <td>2</td>\n      <td>0.0</td>\n      <td>...</td>\n      <td>240</td>\n      <td>NULL</td>\n      <td>0</td>\n      <td>Transient</td>\n      <td>98.0</td>\n      <td>0</td>\n      <td>1</td>\n      <td>Check-Out</td>\n      <td>2015-07-03</td>\n      <td>1</td>\n    </tr>\n  </tbody>\n</table>\n<p>5 rows × 32 columns</p>\n</div>"
     },
     "execution_count": 12,
     "metadata": {},
     "output_type": "execute_result"
    }
   ],
   "source": [
    "hotel_booking = pd.read_csv('DATA/hotel_booking.csv')\n",
    "hotel_booking.head()"
   ],
   "metadata": {
    "collapsed": false
   }
  },
  {
   "cell_type": "code",
   "execution_count": 13,
   "outputs": [
    {
     "data": {
      "text/plain": "IsCanceled                       0\nLeadTime                         0\nArrivalDateYear                  0\nArrivalDateMonth                 0\nArrivalDateWeekNumber            0\nArrivalDateDayOfMonth            0\nStaysInWeekendNights             0\nStaysInWeekNights                0\nAdults                           0\nChildren                         4\nBabies                           0\nMeal                             0\nCountry                        488\nMarketSegment                    0\nDistributionChannel              0\nIsRepeatedGuest                  0\nPreviousCancellations            0\nPreviousBookingsNotCanceled      0\nReservedRoomType                 0\nAssignedRoomType                 0\nBookingChanges                   0\nDepositType                      0\nAgent                            0\nCompany                          0\nDaysInWaitingList                0\nCustomerType                     0\nADR                              0\nRequiredCarParkingSpaces         0\nTotalOfSpecialRequests           0\nReservationStatus                0\nReservationStatusDate            0\nis_h1                            0\ndtype: int64"
     },
     "execution_count": 13,
     "metadata": {},
     "output_type": "execute_result"
    }
   ],
   "source": [
    "# Checking Missing Data\n",
    "hotel_booking.isna().sum()"
   ],
   "metadata": {
    "collapsed": false
   }
  },
  {
   "cell_type": "code",
   "execution_count": 14,
   "outputs": [
    {
     "data": {
      "text/plain": "<Figure size 432x288 with 1 Axes>",
      "image/png": "[encoded data removed]"
     },
     "metadata": {
      "needs_background": "light"
     },
     "output_type": "display_data"
    }
   ],
   "source": [
    "hotel_booking.isna().sum().plot(kind='bar');"
   ],
   "metadata": {
    "collapsed": false
   }
  },
  {
   "cell_type": "markdown",
   "source": [
    "## Data Preprocessing"
   ],
   "metadata": {
    "collapsed": false
   }
  },
  {
   "cell_type": "code",
   "execution_count": 16,
   "outputs": [],
   "source": [
    "# Creating a function to reformat the feature names:\n",
    "def camel_to_snake(name):\n",
    "    name = re.sub('(.)([A-Z][a-z]+)', r'\\1_\\2', name)\n",
    "    return re.sub('([a-z0-9])([A-Z])', r'\\1_\\2', name).lower()"
   ],
   "metadata": {
    "collapsed": false
   }
  },
  {
   "cell_type": "code",
   "execution_count": 17,
   "outputs": [],
   "source": [
    "# Reformating the feature names:\n",
    "hotel_booking.columns = hotel_booking.columns.map(camel_to_snake)"
   ],
   "metadata": {
    "collapsed": false
   }
  },
  {
   "cell_type": "code",
   "execution_count": 18,
   "outputs": [],
   "source": [
    "# Removing spaces:\n",
    "features = ['meal', 'reserved_room_type', 'assigned_room_type', 'deposit_type', 'agent', 'company']\n",
    "for feature in features:\n",
    "    hotel_booking[feature] = hotel_booking[feature].str.strip()"
   ],
   "metadata": {
    "collapsed": false
   }
  },
  {
   "cell_type": "markdown",
   "source": [
    "#### Fill missing company and agent values\n",
    "\n",
    "* missing `company` values says that booking did not came via any company\n",
    "* missing `agent` values says that booking did not came from a agent\n",
    "\n",
    "----\n",
    "\n",
    "Therefore fill missing `company` and `agent` values as follows:\n",
    "* missing `company` values as **No Company**\n",
    "* missing `agent` values as **No Agent**"
   ],
   "metadata": {
    "collapsed": false
   }
  },
  {
   "cell_type": "code",
   "execution_count": 29,
   "outputs": [
    {
     "data": {
      "text/plain": "   is_canceled  lead_time  arrival_date_year arrival_date_month  \\\n0            0        342               2015               July   \n1            0        737               2015               July   \n2            0          7               2015               July   \n3            0         13               2015               July   \n4            0         14               2015               July   \n\n   arrival_date_week_number  arrival_date_day_of_month  \\\n0                        27                          1   \n1                        27                          1   \n2                        27                          1   \n3                        27                          1   \n4                        27                          1   \n\n   stays_in_weekend_nights  stays_in_week_nights  adults  children  ...  \\\n0                        0                     0       2         0  ...   \n1                        0                     0       2         0  ...   \n2                        0                     1       1         0  ...   \n3                        0                     1       1         0  ...   \n4                        0                     2       2         0  ...   \n\n      agent     company days_in_waiting_list customer_type   adr  \\\n0  No Agent  No Company                    0     Transient   0.0   \n1  No Agent  No Company                    0     Transient   0.0   \n2  No Agent  No Company                    0     Transient  75.0   \n3       304  No Company                    0     Transient  75.0   \n4       240  No Company                    0     Transient  98.0   \n\n   required_car_parking_spaces  total_of_special_requests  reservation_status  \\\n0                            0                          0           Check-Out   \n1                            0                          0           Check-Out   \n2                            0                          0           Check-Out   \n3                            0                          0           Check-Out   \n4                            0                          1           Check-Out   \n\n  reservation_status_date is_h1  \n0              2015-07-01     1  \n1              2015-07-01     1  \n2              2015-07-02     1  \n3              2015-07-02     1  \n4              2015-07-03     1  \n\n[5 rows x 32 columns]",
      "text/html": "<div>\n<style scoped>\n    .dataframe tbody tr th:only-of-type {\n        vertical-align: middle;\n    }\n\n    .dataframe tbody tr th {\n        vertical-align: top;\n    }\n\n    .dataframe thead th {\n        text-align: right;\n    }\n</style>\n<table border=\"1\" class=\"dataframe\">\n  <thead>\n    <tr style=\"text-align: right;\">\n      <th></th>\n      <th>is_canceled</th>\n      <th>lead_time</th>\n      <th>arrival_date_year</th>\n      <th>arrival_date_month</th>\n      <th>arrival_date_week_number</th>\n      <th>arrival_date_day_of_month</th>\n      <th>stays_in_weekend_nights</th>\n      <th>stays_in_week_nights</th>\n      <th>adults</th>\n      <th>children</th>\n      <th>...</th>\n      <th>agent</th>\n      <th>company</th>\n      <th>days_in_waiting_list</th>\n      <th>customer_type</th>\n      <th>adr</th>\n      <th>required_car_parking_spaces</th>\n      <th>total_of_special_requests</th>\n      <th>reservation_status</th>\n      <th>reservation_status_date</th>\n      <th>is_h1</th>\n    </tr>\n  </thead>\n  <tbody>\n    <tr>\n      <th>0</th>\n      <td>0</td>\n      <td>342</td>\n      <td>2015</td>\n      <td>July</td>\n      <td>27</td>\n      <td>1</td>\n      <td>0</td>\n      <td>0</td>\n      <td>2</td>\n      <td>0</td>\n      <td>...</td>\n      <td>No Agent</td>\n      <td>No Company</td>\n      <td>0</td>\n      <td>Transient</td>\n      <td>0.0</td>\n      <td>0</td>\n      <td>0</td>\n      <td>Check-Out</td>\n      <td>2015-07-01</td>\n      <td>1</td>\n    </tr>\n    <tr>\n      <th>1</th>\n      <td>0</td>\n      <td>737</td>\n      <td>2015</td>\n      <td>July</td>\n      <td>27</td>\n      <td>1</td>\n      <td>0</td>\n      <td>0</td>\n      <td>2</td>\n      <td>0</td>\n      <td>...</td>\n      <td>No Agent</td>\n      <td>No Company</td>\n      <td>0</td>\n      <td>Transient</td>\n      <td>0.0</td>\n      <td>0</td>\n      <td>0</td>\n      <td>Check-Out</td>\n      <td>2015-07-01</td>\n      <td>1</td>\n    </tr>\n    <tr>\n      <th>2</th>\n      <td>0</td>\n      <td>7</td>\n      <td>2015</td>\n      <td>July</td>\n      <td>27</td>\n      <td>1</td>\n      <td>0</td>\n      <td>1</td>\n      <td>1</td>\n      <td>0</td>\n      <td>...</td>\n      <td>No Agent</td>\n      <td>No Company</td>\n      <td>0</td>\n      <td>Transient</td>\n      <td>75.0</td>\n      <td>0</td>\n      <td>0</td>\n      <td>Check-Out</td>\n      <td>2015-07-02</td>\n      <td>1</td>\n    </tr>\n    <tr>\n      <th>3</th>\n      <td>0</td>\n      <td>13</td>\n      <td>2015</td>\n      <td>July</td>\n      <td>27</td>\n      <td>1</td>\n      <td>0</td>\n      <td>1</td>\n      <td>1</td>\n      <td>0</td>\n      <td>...</td>\n      <td>304</td>\n      <td>No Company</td>\n      <td>0</td>\n      <td>Transient</td>\n      <td>75.0</td>\n      <td>0</td>\n      <td>0</td>\n      <td>Check-Out</td>\n      <td>2015-07-02</td>\n      <td>1</td>\n    </tr>\n    <tr>\n      <th>4</th>\n      <td>0</td>\n      <td>14</td>\n      <td>2015</td>\n      <td>July</td>\n      <td>27</td>\n      <td>1</td>\n      <td>0</td>\n      <td>2</td>\n      <td>2</td>\n      <td>0</td>\n      <td>...</td>\n      <td>240</td>\n      <td>No Company</td>\n      <td>0</td>\n      <td>Transient</td>\n      <td>98.0</td>\n      <td>0</td>\n      <td>1</td>\n      <td>Check-Out</td>\n      <td>2015-07-03</td>\n      <td>1</td>\n    </tr>\n  </tbody>\n</table>\n<p>5 rows × 32 columns</p>\n</div>"
     },
     "execution_count": 29,
     "metadata": {},
     "output_type": "execute_result"
    }
   ],
   "source": [
    "hotel_booking['agent'].replace(to_replace='NULL', value='No Agent', inplace=True)\n",
    "hotel_booking['company'].replace(to_replace='NULL', value='No Company', inplace=True)\n",
    "\n",
    "hotel_booking.head()"
   ],
   "metadata": {
    "collapsed": false
   }
  },
  {
   "cell_type": "code",
   "execution_count": 34,
   "outputs": [],
   "source": [
    "hotel_booking['country'].fillna(\"unknown\", inplace=True)"
   ],
   "metadata": {
    "collapsed": false
   }
  },
  {
   "cell_type": "markdown",
   "source": [
    "#### Drop missing children values"
   ],
   "metadata": {
    "collapsed": false
   }
  },
  {
   "cell_type": "code",
   "execution_count": 37,
   "outputs": [],
   "source": [
    "hotel_booking.dropna(subset=['children'], inplace=True)"
   ],
   "metadata": {
    "collapsed": false
   }
  },
  {
   "cell_type": "code",
   "execution_count": 22,
   "outputs": [
    {
     "data": {
      "text/plain": "is_canceled                       0\nlead_time                         0\narrival_date_year                 0\narrival_date_month                0\narrival_date_week_number          0\narrival_date_day_of_month         0\nstays_in_weekend_nights           0\nstays_in_week_nights              0\nadults                            0\nchildren                          0\nbabies                            0\nmeal                              0\ncountry                           0\nmarket_segment                    0\ndistribution_channel              0\nis_repeated_guest                 0\nprevious_cancellations            0\nprevious_bookings_not_canceled    0\nreserved_room_type                0\nassigned_room_type                0\nbooking_changes                   0\ndeposit_type                      0\nagent                             0\ncompany                           0\ndays_in_waiting_list              0\ncustomer_type                     0\nadr                               0\nrequired_car_parking_spaces       0\ntotal_of_special_requests         0\nreservation_status                0\nreservation_status_date           0\nis_h1                             0\ndtype: int64"
     },
     "execution_count": 22,
     "metadata": {},
     "output_type": "execute_result"
    }
   ],
   "source": [
    "hotel_booking.isna().sum()"
   ],
   "metadata": {
    "collapsed": false
   }
  },
  {
   "cell_type": "code",
   "execution_count": 23,
   "outputs": [
    {
     "data": {
      "text/plain": "is_canceled                         int64\nlead_time                           int64\narrival_date_year                   int64\narrival_date_month                 object\narrival_date_week_number            int64\narrival_date_day_of_month           int64\nstays_in_weekend_nights             int64\nstays_in_week_nights                int64\nadults                              int64\nchildren                          float64\nbabies                              int64\nmeal                               object\ncountry                            object\nmarket_segment                     object\ndistribution_channel               object\nis_repeated_guest                   int64\nprevious_cancellations              int64\nprevious_bookings_not_canceled      int64\nreserved_room_type                 object\nassigned_room_type                 object\nbooking_changes                     int64\ndeposit_type                       object\nagent                              object\ncompany                            object\ndays_in_waiting_list                int64\ncustomer_type                      object\nadr                               float64\nrequired_car_parking_spaces         int64\ntotal_of_special_requests           int64\nreservation_status                 object\nreservation_status_date            object\nis_h1                               int64\ndtype: object"
     },
     "execution_count": 23,
     "metadata": {},
     "output_type": "execute_result"
    }
   ],
   "source": [
    "# check data type of each column\n",
    "hotel_booking.dtypes"
   ],
   "metadata": {
    "collapsed": false
   }
  },
  {
   "cell_type": "markdown",
   "source": [
    "#### Fix data types of `children` and `reservation_satatus_date`\n",
    "\n",
    "* There were 2 mismatched data types can be found in dataset.\n",
    "* `children` column data type should be fixed as integer\n",
    "* `reservation_status_date` column data type should be fixed as datetime"
   ],
   "metadata": {
    "collapsed": false
   }
  },
  {
   "cell_type": "code",
   "execution_count": 24,
   "outputs": [],
   "source": [
    "hotel_booking['children'] = hotel_booking['children'].astype(int)\n",
    "hotel_booking['reservation_status_date'] = pd.to_datetime(hotel_booking['reservation_status_date'])"
   ],
   "metadata": {
    "collapsed": false
   }
  },
  {
   "cell_type": "code",
   "execution_count": 22,
   "outputs": [
    {
     "data": {
      "text/plain": "is_canceled                                int64\nlead_time                                  int64\narrival_date_year                          int64\narrival_date_month                        object\narrival_date_week_number                   int64\narrival_date_day_of_month                  int64\nstays_in_weekend_nights                    int64\nstays_in_week_nights                       int64\nadults                                     int64\nchildren                                   int32\nbabies                                     int64\nmeal                                      object\ncountry                                   object\nmarket_segment                            object\ndistribution_channel                      object\nis_repeated_guest                          int64\nprevious_cancellations                     int64\nprevious_bookings_not_canceled             int64\nreserved_room_type                        object\nassigned_room_type                        object\nbooking_changes                            int64\ndeposit_type                              object\nagent                                     object\ncompany                                   object\ndays_in_waiting_list                       int64\ncustomer_type                             object\nadr                                      float64\nrequired_car_parking_spaces                int64\ntotal_of_special_requests                  int64\nreservation_status                        object\nreservation_status_date           datetime64[ns]\nis_h1                                      int64\ndtype: object"
     },
     "execution_count": 22,
     "metadata": {},
     "output_type": "execute_result"
    }
   ],
   "source": [
    "hotel_booking.dtypes"
   ],
   "metadata": {
    "collapsed": false
   }
  },
  {
   "cell_type": "markdown",
   "source": [
    "#### Check for the duplications\n",
    "\n",
    "* We does not remove duplications since there can be more than one bookings with the same features on same day"
   ],
   "metadata": {
    "collapsed": false
   }
  },
  {
   "cell_type": "code",
   "execution_count": 23,
   "outputs": [
    {
     "data": {
      "text/plain": "True"
     },
     "execution_count": 23,
     "metadata": {},
     "output_type": "execute_result"
    }
   ],
   "source": [
    "hotel_booking.duplicated().any()"
   ],
   "metadata": {
    "collapsed": false
   }
  },
  {
   "cell_type": "code",
   "execution_count": 24,
   "outputs": [
    {
     "data": {
      "text/plain": "        is_canceled  lead_time  arrival_date_year arrival_date_month  \\\n5                 0         14               2015               July   \n22                0         72               2015               July   \n43                0         70               2015               July   \n138               1          5               2015               July   \n200               0          0               2015               July   \n...             ...        ...                ...                ...   \n119349            0        186               2017             August   \n119352            0         63               2017             August   \n119353            0         63               2017             August   \n119354            0         63               2017             August   \n119373            0        175               2017             August   \n\n        arrival_date_week_number  arrival_date_day_of_month  \\\n5                             27                          1   \n22                            27                          1   \n43                            27                          2   \n138                           28                          5   \n200                           28                          7   \n...                          ...                        ...   \n119349                        35                         31   \n119352                        35                         31   \n119353                        35                         31   \n119354                        35                         31   \n119373                        35                         31   \n\n        stays_in_weekend_nights  stays_in_week_nights  adults  children  ...  \\\n5                             0                     2       2         0  ...   \n22                            2                     4       2         0  ...   \n43                            2                     3       2         0  ...   \n138                           1                     0       2         0  ...   \n200                           0                     1       1         0  ...   \n...                         ...                   ...     ...       ...  ...   \n119349                        0                     3       2         0  ...   \n119352                        0                     3       3         0  ...   \n119353                        0                     3       3         0  ...   \n119354                        0                     3       3         0  ...   \n119373                        1                     3       1         0  ...   \n\n        agent     company days_in_waiting_list    customer_type     adr  \\\n5         240  No Company                    0        Transient   98.00   \n22        250  No Company                    0        Transient   84.67   \n43        250  No Company                    0        Transient  137.00   \n138       240  No Company                    0        Transient   97.00   \n200       240  No Company                    0        Transient  109.80   \n...       ...         ...                  ...              ...     ...   \n119349      9  No Company                    0        Transient  126.00   \n119352      9  No Company                    0  Transient-Party  195.33   \n119353      9  No Company                    0  Transient-Party  195.33   \n119354      9  No Company                    0  Transient-Party  195.33   \n119373     42  No Company                    0        Transient   82.35   \n\n        required_car_parking_spaces  total_of_special_requests  \\\n5                                 0                          1   \n22                                0                          1   \n43                                0                          1   \n138                               0                          0   \n200                               0                          3   \n...                             ...                        ...   \n119349                            0                          2   \n119352                            0                          2   \n119353                            0                          2   \n119354                            0                          2   \n119373                            0                          1   \n\n        reservation_status reservation_status_date is_h1  \n5                Check-Out              2015-07-03     1  \n22               Check-Out              2015-07-07     1  \n43               Check-Out              2015-07-07     1  \n138               Canceled              2015-07-01     1  \n200              Check-Out              2015-07-08     1  \n...                    ...                     ...   ...  \n119349           Check-Out              2017-09-03     0  \n119352           Check-Out              2017-09-03     0  \n119353           Check-Out              2017-09-03     0  \n119354           Check-Out              2017-09-03     0  \n119373           Check-Out              2017-09-04     0  \n\n[31994 rows x 32 columns]",
      "text/html": "<div>\n<style scoped>\n    .dataframe tbody tr th:only-of-type {\n        vertical-align: middle;\n    }\n\n    .dataframe tbody tr th {\n        vertical-align: top;\n    }\n\n    .dataframe thead th {\n        text-align: right;\n    }\n</style>\n<table border=\"1\" class=\"dataframe\">\n  <thead>\n    <tr style=\"text-align: right;\">\n      <th></th>\n      <th>is_canceled</th>\n      <th>lead_time</th>\n      <th>arrival_date_year</th>\n      <th>arrival_date_month</th>\n      <th>arrival_date_week_number</th>\n      <th>arrival_date_day_of_month</th>\n      <th>stays_in_weekend_nights</th>\n      <th>stays_in_week_nights</th>\n      <th>adults</th>\n      <th>children</th>\n      <th>...</th>\n      <th>agent</th>\n      <th>company</th>\n      <th>days_in_waiting_list</th>\n      <th>customer_type</th>\n      <th>adr</th>\n      <th>required_car_parking_spaces</th>\n      <th>total_of_special_requests</th>\n      <th>reservation_status</th>\n      <th>reservation_status_date</th>\n      <th>is_h1</th>\n    </tr>\n  </thead>\n  <tbody>\n    <tr>\n      <th>5</th>\n      <td>0</td>\n      <td>14</td>\n      <td>2015</td>\n      <td>July</td>\n      <td>27</td>\n      <td>1</td>\n      <td>0</td>\n      <td>2</td>\n      <td>2</td>\n      <td>0</td>\n      <td>...</td>\n      <td>240</td>\n      <td>No Company</td>\n      <td>0</td>\n      <td>Transient</td>\n      <td>98.00</td>\n      <td>0</td>\n      <td>1</td>\n      <td>Check-Out</td>\n      <td>2015-07-03</td>\n      <td>1</td>\n    </tr>\n    <tr>\n      <th>22</th>\n      <td>0</td>\n      <td>72</td>\n      <td>2015</td>\n      <td>July</td>\n      <td>27</td>\n      <td>1</td>\n      <td>2</td>\n      <td>4</td>\n      <td>2</td>\n      <td>0</td>\n      <td>...</td>\n      <td>250</td>\n      <td>No Company</td>\n      <td>0</td>\n      <td>Transient</td>\n      <td>84.67</td>\n      <td>0</td>\n      <td>1</td>\n      <td>Check-Out</td>\n      <td>2015-07-07</td>\n      <td>1</td>\n    </tr>\n    <tr>\n      <th>43</th>\n      <td>0</td>\n      <td>70</td>\n      <td>2015</td>\n      <td>July</td>\n      <td>27</td>\n      <td>2</td>\n      <td>2</td>\n      <td>3</td>\n      <td>2</td>\n      <td>0</td>\n      <td>...</td>\n      <td>250</td>\n      <td>No Company</td>\n      <td>0</td>\n      <td>Transient</td>\n      <td>137.00</td>\n      <td>0</td>\n      <td>1</td>\n      <td>Check-Out</td>\n      <td>2015-07-07</td>\n      <td>1</td>\n    </tr>\n    <tr>\n      <th>138</th>\n      <td>1</td>\n      <td>5</td>\n      <td>2015</td>\n      <td>July</td>\n      <td>28</td>\n      <td>5</td>\n      <td>1</td>\n      <td>0</td>\n      <td>2</td>\n      <td>0</td>\n      <td>...</td>\n      <td>240</td>\n      <td>No Company</td>\n      <td>0</td>\n      <td>Transient</td>\n      <td>97.00</td>\n      <td>0</td>\n      <td>0</td>\n      <td>Canceled</td>\n      <td>2015-07-01</td>\n      <td>1</td>\n    </tr>\n    <tr>\n      <th>200</th>\n      <td>0</td>\n      <td>0</td>\n      <td>2015</td>\n      <td>July</td>\n      <td>28</td>\n      <td>7</td>\n      <td>0</td>\n      <td>1</td>\n      <td>1</td>\n      <td>0</td>\n      <td>...</td>\n      <td>240</td>\n      <td>No Company</td>\n      <td>0</td>\n      <td>Transient</td>\n      <td>109.80</td>\n      <td>0</td>\n      <td>3</td>\n      <td>Check-Out</td>\n      <td>2015-07-08</td>\n      <td>1</td>\n    </tr>\n    <tr>\n      <th>...</th>\n      <td>...</td>\n      <td>...</td>\n      <td>...</td>\n      <td>...</td>\n      <td>...</td>\n      <td>...</td>\n      <td>...</td>\n      <td>...</td>\n      <td>...</td>\n      <td>...</td>\n      <td>...</td>\n      <td>...</td>\n      <td>...</td>\n      <td>...</td>\n      <td>...</td>\n      <td>...</td>\n      <td>...</td>\n      <td>...</td>\n      <td>...</td>\n      <td>...</td>\n      <td>...</td>\n    </tr>\n    <tr>\n      <th>119349</th>\n      <td>0</td>\n      <td>186</td>\n      <td>2017</td>\n      <td>August</td>\n      <td>35</td>\n      <td>31</td>\n      <td>0</td>\n      <td>3</td>\n      <td>2</td>\n      <td>0</td>\n      <td>...</td>\n      <td>9</td>\n      <td>No Company</td>\n      <td>0</td>\n      <td>Transient</td>\n      <td>126.00</td>\n      <td>0</td>\n      <td>2</td>\n      <td>Check-Out</td>\n      <td>2017-09-03</td>\n      <td>0</td>\n    </tr>\n    <tr>\n      <th>119352</th>\n      <td>0</td>\n      <td>63</td>\n      <td>2017</td>\n      <td>August</td>\n      <td>35</td>\n      <td>31</td>\n      <td>0</td>\n      <td>3</td>\n      <td>3</td>\n      <td>0</td>\n      <td>...</td>\n      <td>9</td>\n      <td>No Company</td>\n      <td>0</td>\n      <td>Transient-Party</td>\n      <td>195.33</td>\n      <td>0</td>\n      <td>2</td>\n      <td>Check-Out</td>\n      <td>2017-09-03</td>\n      <td>0</td>\n    </tr>\n    <tr>\n      <th>119353</th>\n      <td>0</td>\n      <td>63</td>\n      <td>2017</td>\n      <td>August</td>\n      <td>35</td>\n      <td>31</td>\n      <td>0</td>\n      <td>3</td>\n      <td>3</td>\n      <td>0</td>\n      <td>...</td>\n      <td>9</td>\n      <td>No Company</td>\n      <td>0</td>\n      <td>Transient-Party</td>\n      <td>195.33</td>\n      <td>0</td>\n      <td>2</td>\n      <td>Check-Out</td>\n      <td>2017-09-03</td>\n      <td>0</td>\n    </tr>\n    <tr>\n      <th>119354</th>\n      <td>0</td>\n      <td>63</td>\n      <td>2017</td>\n      <td>August</td>\n      <td>35</td>\n      <td>31</td>\n      <td>0</td>\n      <td>3</td>\n      <td>3</td>\n      <td>0</td>\n      <td>...</td>\n      <td>9</td>\n      <td>No Company</td>\n      <td>0</td>\n      <td>Transient-Party</td>\n      <td>195.33</td>\n      <td>0</td>\n      <td>2</td>\n      <td>Check-Out</td>\n      <td>2017-09-03</td>\n      <td>0</td>\n    </tr>\n    <tr>\n      <th>119373</th>\n      <td>0</td>\n      <td>175</td>\n      <td>2017</td>\n      <td>August</td>\n      <td>35</td>\n      <td>31</td>\n      <td>1</td>\n      <td>3</td>\n      <td>1</td>\n      <td>0</td>\n      <td>...</td>\n      <td>42</td>\n      <td>No Company</td>\n      <td>0</td>\n      <td>Transient</td>\n      <td>82.35</td>\n      <td>0</td>\n      <td>1</td>\n      <td>Check-Out</td>\n      <td>2017-09-04</td>\n      <td>0</td>\n    </tr>\n  </tbody>\n</table>\n<p>31994 rows × 32 columns</p>\n</div>"
     },
     "execution_count": 24,
     "metadata": {},
     "output_type": "execute_result"
    }
   ],
   "source": [
    "hotel_booking[hotel_booking.duplicated(keep='first')]"
   ],
   "metadata": {
    "collapsed": false
   }
  },
  {
   "cell_type": "markdown",
   "source": [
    "## Feature Engineering"
   ],
   "metadata": {
    "collapsed": false
   }
  },
  {
   "cell_type": "markdown",
   "source": [
    "**Creating new feature called** `arrival_date_full` **using** `arrival_date_year`**,** `arrival_date_month` **and** `arrival_date_day_of_month`"
   ],
   "metadata": {
    "collapsed": false
   }
  },
  {
   "cell_type": "code",
   "execution_count": 40,
   "outputs": [],
   "source": [
    "hotel_booking['arrival_date_full'] = hotel_booking['arrival_date_year'].astype(str) + \"-\" + hotel_booking['arrival_date_month'].map({'January':1, 'February':2, 'March':3, 'April':4, 'May':5, 'June':6, 'July':7, 'August':8, 'September':9, 'October':10, 'November':11, 'December':12}).astype(str) + \"-\" + hotel_booking['arrival_date_day_of_month'].astype(str)\n",
    "\n",
    "hotel_booking['arrival_date_full'] = pd.to_datetime(hotel_booking['arrival_date_full'], format=\"%Y-%m-%d\")"
   ],
   "metadata": {
    "collapsed": false
   }
  },
  {
   "cell_type": "code",
   "execution_count": 41,
   "outputs": [
    {
     "data": {
      "text/plain": "   is_canceled  lead_time  arrival_date_year arrival_date_month  \\\n0            0        342               2015               July   \n1            0        737               2015               July   \n2            0          7               2015               July   \n3            0         13               2015               July   \n4            0         14               2015               July   \n\n   arrival_date_week_number  arrival_date_day_of_month  \\\n0                        27                          1   \n1                        27                          1   \n2                        27                          1   \n3                        27                          1   \n4                        27                          1   \n\n   stays_in_weekend_nights  stays_in_week_nights  adults  children  ...  \\\n0                        0                     0       2         0  ...   \n1                        0                     0       2         0  ...   \n2                        0                     1       1         0  ...   \n3                        0                     1       1         0  ...   \n4                        0                     2       2         0  ...   \n\n      company days_in_waiting_list customer_type   adr  \\\n0  No Company                    0     Transient   0.0   \n1  No Company                    0     Transient   0.0   \n2  No Company                    0     Transient  75.0   \n3  No Company                    0     Transient  75.0   \n4  No Company                    0     Transient  98.0   \n\n  required_car_parking_spaces  total_of_special_requests  reservation_status  \\\n0                           0                          0           Check-Out   \n1                           0                          0           Check-Out   \n2                           0                          0           Check-Out   \n3                           0                          0           Check-Out   \n4                           0                          1           Check-Out   \n\n   reservation_status_date is_h1 arrival_date_full  \n0               2015-07-01     1        2015-07-01  \n1               2015-07-01     1        2015-07-01  \n2               2015-07-02     1        2015-07-01  \n3               2015-07-02     1        2015-07-01  \n4               2015-07-03     1        2015-07-01  \n\n[5 rows x 33 columns]",
      "text/html": "<div>\n<style scoped>\n    .dataframe tbody tr th:only-of-type {\n        vertical-align: middle;\n    }\n\n    .dataframe tbody tr th {\n        vertical-align: top;\n    }\n\n    .dataframe thead th {\n        text-align: right;\n    }\n</style>\n<table border=\"1\" class=\"dataframe\">\n  <thead>\n    <tr style=\"text-align: right;\">\n      <th></th>\n      <th>is_canceled</th>\n      <th>lead_time</th>\n      <th>arrival_date_year</th>\n      <th>arrival_date_month</th>\n      <th>arrival_date_week_number</th>\n      <th>arrival_date_day_of_month</th>\n      <th>stays_in_weekend_nights</th>\n      <th>stays_in_week_nights</th>\n      <th>adults</th>\n      <th>children</th>\n      <th>...</th>\n      <th>company</th>\n      <th>days_in_waiting_list</th>\n      <th>customer_type</th>\n      <th>adr</th>\n      <th>required_car_parking_spaces</th>\n      <th>total_of_special_requests</th>\n      <th>reservation_status</th>\n      <th>reservation_status_date</th>\n      <th>is_h1</th>\n      <th>arrival_date_full</th>\n    </tr>\n  </thead>\n  <tbody>\n    <tr>\n      <th>0</th>\n      <td>0</td>\n      <td>342</td>\n      <td>2015</td>\n      <td>July</td>\n      <td>27</td>\n      <td>1</td>\n      <td>0</td>\n      <td>0</td>\n      <td>2</td>\n      <td>0</td>\n      <td>...</td>\n      <td>No Company</td>\n      <td>0</td>\n      <td>Transient</td>\n      <td>0.0</td>\n      <td>0</td>\n      <td>0</td>\n      <td>Check-Out</td>\n      <td>2015-07-01</td>\n      <td>1</td>\n      <td>2015-07-01</td>\n    </tr>\n    <tr>\n      <th>1</th>\n      <td>0</td>\n      <td>737</td>\n      <td>2015</td>\n      <td>July</td>\n      <td>27</td>\n      <td>1</td>\n      <td>0</td>\n      <td>0</td>\n      <td>2</td>\n      <td>0</td>\n      <td>...</td>\n      <td>No Company</td>\n      <td>0</td>\n      <td>Transient</td>\n      <td>0.0</td>\n      <td>0</td>\n      <td>0</td>\n      <td>Check-Out</td>\n      <td>2015-07-01</td>\n      <td>1</td>\n      <td>2015-07-01</td>\n    </tr>\n    <tr>\n      <th>2</th>\n      <td>0</td>\n      <td>7</td>\n      <td>2015</td>\n      <td>July</td>\n      <td>27</td>\n      <td>1</td>\n      <td>0</td>\n      <td>1</td>\n      <td>1</td>\n      <td>0</td>\n      <td>...</td>\n      <td>No Company</td>\n      <td>0</td>\n      <td>Transient</td>\n      <td>75.0</td>\n      <td>0</td>\n      <td>0</td>\n      <td>Check-Out</td>\n      <td>2015-07-02</td>\n      <td>1</td>\n      <td>2015-07-01</td>\n    </tr>\n    <tr>\n      <th>3</th>\n      <td>0</td>\n      <td>13</td>\n      <td>2015</td>\n      <td>July</td>\n      <td>27</td>\n      <td>1</td>\n      <td>0</td>\n      <td>1</td>\n      <td>1</td>\n      <td>0</td>\n      <td>...</td>\n      <td>No Company</td>\n      <td>0</td>\n      <td>Transient</td>\n      <td>75.0</td>\n      <td>0</td>\n      <td>0</td>\n      <td>Check-Out</td>\n      <td>2015-07-02</td>\n      <td>1</td>\n      <td>2015-07-01</td>\n    </tr>\n    <tr>\n      <th>4</th>\n      <td>0</td>\n      <td>14</td>\n      <td>2015</td>\n      <td>July</td>\n      <td>27</td>\n      <td>1</td>\n      <td>0</td>\n      <td>2</td>\n      <td>2</td>\n      <td>0</td>\n      <td>...</td>\n      <td>No Company</td>\n      <td>0</td>\n      <td>Transient</td>\n      <td>98.0</td>\n      <td>0</td>\n      <td>1</td>\n      <td>Check-Out</td>\n      <td>2015-07-03</td>\n      <td>1</td>\n      <td>2015-07-01</td>\n    </tr>\n  </tbody>\n</table>\n<p>5 rows × 33 columns</p>\n</div>"
     },
     "execution_count": 41,
     "metadata": {},
     "output_type": "execute_result"
    }
   ],
   "source": [
    "hotel_booking.head()"
   ],
   "metadata": {
    "collapsed": false
   }
  },
  {
   "cell_type": "markdown",
   "source": [
    "**Creating a new feature called** `status_minus_arrival_date` **representing length of stay or how many days before arrival did the customer cancel**"
   ],
   "metadata": {
    "collapsed": false
   }
  },
  {
   "cell_type": "code",
   "execution_count": 42,
   "outputs": [],
   "source": [
    "hotel_booking['status_minus_arrival_date'] = np.abs(hotel_booking['arrival_date_full'] - hotel_booking['reservation_status_date']).astype(str)"
   ],
   "metadata": {
    "collapsed": false
   }
  },
  {
   "cell_type": "code",
   "execution_count": 43,
   "outputs": [],
   "source": [
    "def format_lenght(date):\n",
    "    return date[0]"
   ],
   "metadata": {
    "collapsed": false
   }
  },
  {
   "cell_type": "code",
   "execution_count": 44,
   "outputs": [],
   "source": [
    "hotel_booking['status_minus_arrival_date'] = hotel_booking['status_minus_arrival_date'].map(format_lenght).astype(int)"
   ],
   "metadata": {
    "collapsed": false
   }
  },
  {
   "cell_type": "code",
   "execution_count": 45,
   "outputs": [
    {
     "data": {
      "text/plain": "   is_canceled  lead_time  arrival_date_year arrival_date_month  \\\n0            0        342               2015               July   \n1            0        737               2015               July   \n2            0          7               2015               July   \n3            0         13               2015               July   \n4            0         14               2015               July   \n\n   arrival_date_week_number  arrival_date_day_of_month  \\\n0                        27                          1   \n1                        27                          1   \n2                        27                          1   \n3                        27                          1   \n4                        27                          1   \n\n   stays_in_weekend_nights  stays_in_week_nights  adults  children  ...  \\\n0                        0                     0       2         0  ...   \n1                        0                     0       2         0  ...   \n2                        0                     1       1         0  ...   \n3                        0                     1       1         0  ...   \n4                        0                     2       2         0  ...   \n\n   days_in_waiting_list customer_type   adr required_car_parking_spaces  \\\n0                     0     Transient   0.0                           0   \n1                     0     Transient   0.0                           0   \n2                     0     Transient  75.0                           0   \n3                     0     Transient  75.0                           0   \n4                     0     Transient  98.0                           0   \n\n  total_of_special_requests  reservation_status  reservation_status_date  \\\n0                         0           Check-Out               2015-07-01   \n1                         0           Check-Out               2015-07-01   \n2                         0           Check-Out               2015-07-02   \n3                         0           Check-Out               2015-07-02   \n4                         1           Check-Out               2015-07-03   \n\n   is_h1 arrival_date_full status_minus_arrival_date  \n0      1        2015-07-01                         0  \n1      1        2015-07-01                         0  \n2      1        2015-07-01                         1  \n3      1        2015-07-01                         1  \n4      1        2015-07-01                         2  \n\n[5 rows x 34 columns]",
      "text/html": "<div>\n<style scoped>\n    .dataframe tbody tr th:only-of-type {\n        vertical-align: middle;\n    }\n\n    .dataframe tbody tr th {\n        vertical-align: top;\n    }\n\n    .dataframe thead th {\n        text-align: right;\n    }\n</style>\n<table border=\"1\" class=\"dataframe\">\n  <thead>\n    <tr style=\"text-align: right;\">\n      <th></th>\n      <th>is_canceled</th>\n      <th>lead_time</th>\n      <th>arrival_date_year</th>\n      <th>arrival_date_month</th>\n      <th>arrival_date_week_number</th>\n      <th>arrival_date_day_of_month</th>\n      <th>stays_in_weekend_nights</th>\n      <th>stays_in_week_nights</th>\n      <th>adults</th>\n      <th>children</th>\n      <th>...</th>\n      <th>days_in_waiting_list</th>\n      <th>customer_type</th>\n      <th>adr</th>\n      <th>required_car_parking_spaces</th>\n      <th>total_of_special_requests</th>\n      <th>reservation_status</th>\n      <th>reservation_status_date</th>\n      <th>is_h1</th>\n      <th>arrival_date_full</th>\n      <th>status_minus_arrival_date</th>\n    </tr>\n  </thead>\n  <tbody>\n    <tr>\n      <th>0</th>\n      <td>0</td>\n      <td>342</td>\n      <td>2015</td>\n      <td>July</td>\n      <td>27</td>\n      <td>1</td>\n      <td>0</td>\n      <td>0</td>\n      <td>2</td>\n      <td>0</td>\n      <td>...</td>\n      <td>0</td>\n      <td>Transient</td>\n      <td>0.0</td>\n      <td>0</td>\n      <td>0</td>\n      <td>Check-Out</td>\n      <td>2015-07-01</td>\n      <td>1</td>\n      <td>2015-07-01</td>\n      <td>0</td>\n    </tr>\n    <tr>\n      <th>1</th>\n      <td>0</td>\n      <td>737</td>\n      <td>2015</td>\n      <td>July</td>\n      <td>27</td>\n      <td>1</td>\n      <td>0</td>\n      <td>0</td>\n      <td>2</td>\n      <td>0</td>\n      <td>...</td>\n      <td>0</td>\n      <td>Transient</td>\n      <td>0.0</td>\n      <td>0</td>\n      <td>0</td>\n      <td>Check-Out</td>\n      <td>2015-07-01</td>\n      <td>1</td>\n      <td>2015-07-01</td>\n      <td>0</td>\n    </tr>\n    <tr>\n      <th>2</th>\n      <td>0</td>\n      <td>7</td>\n      <td>2015</td>\n      <td>July</td>\n      <td>27</td>\n      <td>1</td>\n      <td>0</td>\n      <td>1</td>\n      <td>1</td>\n      <td>0</td>\n      <td>...</td>\n      <td>0</td>\n      <td>Transient</td>\n      <td>75.0</td>\n      <td>0</td>\n      <td>0</td>\n      <td>Check-Out</td>\n      <td>2015-07-02</td>\n      <td>1</td>\n      <td>2015-07-01</td>\n      <td>1</td>\n    </tr>\n    <tr>\n      <th>3</th>\n      <td>0</td>\n      <td>13</td>\n      <td>2015</td>\n      <td>July</td>\n      <td>27</td>\n      <td>1</td>\n      <td>0</td>\n      <td>1</td>\n      <td>1</td>\n      <td>0</td>\n      <td>...</td>\n      <td>0</td>\n      <td>Transient</td>\n      <td>75.0</td>\n      <td>0</td>\n      <td>0</td>\n      <td>Check-Out</td>\n      <td>2015-07-02</td>\n      <td>1</td>\n      <td>2015-07-01</td>\n      <td>1</td>\n    </tr>\n    <tr>\n      <th>4</th>\n      <td>0</td>\n      <td>14</td>\n      <td>2015</td>\n      <td>July</td>\n      <td>27</td>\n      <td>1</td>\n      <td>0</td>\n      <td>2</td>\n      <td>2</td>\n      <td>0</td>\n      <td>...</td>\n      <td>0</td>\n      <td>Transient</td>\n      <td>98.0</td>\n      <td>0</td>\n      <td>1</td>\n      <td>Check-Out</td>\n      <td>2015-07-03</td>\n      <td>1</td>\n      <td>2015-07-01</td>\n      <td>2</td>\n    </tr>\n  </tbody>\n</table>\n<p>5 rows × 34 columns</p>\n</div>"
     },
     "execution_count": 45,
     "metadata": {},
     "output_type": "execute_result"
    }
   ],
   "source": [
    "hotel_booking.head()"
   ],
   "metadata": {
    "collapsed": false
   }
  },
  {
   "cell_type": "markdown",
   "source": [
    "## Exploratory Data Analysis\n"
   ],
   "metadata": {
    "collapsed": false
   }
  },
  {
   "cell_type": "code",
   "execution_count": 32,
   "outputs": [
    {
     "data": {
      "text/plain": "<Figure size 432x288 with 1 Axes>",
      "image/png": "[encoded data removed]"
     },
     "metadata": {
      "needs_background": "light"
     },
     "output_type": "display_data"
    }
   ],
   "source": [
    "# Canceled Vs Not Canceled\n",
    "\n",
    "plt.title(\"Percentage of Bookings for Status\", fontsize = 20, pad = 10)\n",
    "sns.barplot(x=hotel_booking['is_canceled'].unique(), y=hotel_booking['is_canceled'].value_counts(normalize=True))\n",
    "plt.xlabel(\"Booking Status\", fontsize = 12, labelpad = 5)\n",
    "plt.ylabel(\"Percentage of Bookings\", fontsize = 12, labelpad = 5)\n",
    "plt.xticks(ticks=[0, 1], labels=['Not Canceled', 'Canceled']);"
   ],
   "metadata": {
    "collapsed": false
   }
  },
  {
   "cell_type": "code",
   "execution_count": 33,
   "outputs": [
    {
     "data": {
      "text/plain": "<Figure size 360x720 with 1 Axes>",
      "image/png": "[encoded data removed]"
     },
     "metadata": {
      "needs_background": "light"
     },
     "output_type": "display_data"
    }
   ],
   "source": [
    "# Correlation between is_canceled and other features\n",
    "\n",
    "fig = plt.figure(figsize=(5,10))\n",
    "ax = sns.heatmap(hotel_booking.corr()[['is_canceled']].abs().sort_values('is_canceled', ascending=False), annot = True, annot_kws = {\"size\":12}, cmap='Blues', cbar=False)\n",
    "ax.set_title('Correlation Coefficient for Cancellation Status', fontsize=18)\n",
    "ax.tick_params(axis = \"both\", labelsize = 12)\n",
    "y_min, y_max = ax.get_ylim()\n",
    "ax.set_ylim(top=y_max+1);"
   ],
   "metadata": {
    "collapsed": false
   }
  },
  {
   "cell_type": "code",
   "execution_count": 34,
   "outputs": [
    {
     "data": {
      "text/plain": "<Figure size 432x288 with 1 Axes>",
      "image/png": "[encoded data removed]"
     },
     "metadata": {
      "needs_background": "light"
     },
     "output_type": "display_data"
    }
   ],
   "source": [
    "# Canceled Vs Not Canceled By average lead time\n",
    "\n",
    "plt.title(\"Average Lead Time of Bookings per Status\", fontsize = 20, pad = 10)\n",
    "sns.barplot(x=hotel_booking['is_canceled'], y=hotel_booking['lead_time'])\n",
    "plt.xlabel(\"Booking Status\", fontsize = 12, labelpad = 5)\n",
    "plt.ylabel(\"Average Lead Time (days)\", fontsize = 12, labelpad = 5)\n",
    "plt.xticks(ticks=[0, 1], labels=['Not Canceled', 'Canceled']);"
   ],
   "metadata": {
    "collapsed": false
   }
  },
  {
   "cell_type": "code",
   "execution_count": 35,
   "outputs": [
    {
     "data": {
      "text/plain": "<Figure size 432x288 with 1 Axes>",
      "image/png": "[encoded data removed]"
     },
     "metadata": {
      "needs_background": "light"
     },
     "output_type": "display_data"
    }
   ],
   "source": [
    "# Canceled Vs Not Canceled By average total number of special requests\n",
    "\n",
    "plt.title(\"Average Total Number of Special Requests of Bookings per Status\", fontsize = 20, pad = 10)\n",
    "sns.barplot(x=hotel_booking['is_canceled'], y=hotel_booking['total_of_special_requests'])\n",
    "plt.xlabel(\"Booking Status\", fontsize = 12, labelpad = 5)\n",
    "plt.ylabel(\"Average Total Number of Special Requests\", fontsize = 12, labelpad = 5)\n",
    "plt.xticks(ticks=[0, 1], labels=['Not Canceled', 'Canceled']);"
   ],
   "metadata": {
    "collapsed": false
   }
  },
  {
   "cell_type": "code",
   "execution_count": 36,
   "outputs": [
    {
     "data": {
      "text/plain": "<Figure size 432x288 with 1 Axes>",
      "image/png": "[encoded data removed]"
     },
     "metadata": {
      "needs_background": "light"
     },
     "output_type": "display_data"
    }
   ],
   "source": [
    "# Canceled Vs Not Canceled By average number of car parking spaces required\n",
    "\n",
    "plt.title(\"Average Number of Car Parking Spaces Required per Status\", fontsize = 20, pad = 10)\n",
    "sns.barplot(x=hotel_booking['is_canceled'], y=hotel_booking['required_car_parking_spaces'])\n",
    "plt.xlabel(\"Booking Status\", fontsize = 12, labelpad = 5)\n",
    "plt.ylabel(\"Average Number of Car Parking Spaces Required\", fontsize = 12, labelpad = 5)\n",
    "plt.xticks(ticks=[0, 1], labels=['Not Canceled', 'Canceled']);"
   ],
   "metadata": {
    "collapsed": false
   }
  },
  {
   "cell_type": "code",
   "execution_count": 37,
   "outputs": [
    {
     "data": {
      "text/plain": "<Figure size 432x288 with 1 Axes>",
      "image/png": "[encoded data removed]"
     },
     "metadata": {
      "needs_background": "light"
     },
     "output_type": "display_data"
    }
   ],
   "source": [
    "# Canceled Vs Not Canceled By average number of booking changes\n",
    "\n",
    "plt.title(\"Average Number of Booking changes per Status\", fontsize = 20, pad = 10)\n",
    "sns.barplot(x=hotel_booking['is_canceled'], y=hotel_booking['booking_changes'])\n",
    "plt.xlabel(\"Booking Status\", fontsize = 12, labelpad = 5)\n",
    "plt.ylabel(\"Average Number of Booking changes\", fontsize = 12, labelpad = 5)\n",
    "plt.xticks(ticks=[0, 1], labels=['Not Canceled', 'Canceled']);"
   ],
   "metadata": {
    "collapsed": false
   }
  },
  {
   "cell_type": "code",
   "execution_count": 38,
   "outputs": [
    {
     "data": {
      "text/plain": "<Figure size 432x288 with 1 Axes>",
      "image/png": "[encoded data removed]"
     },
     "metadata": {
      "needs_background": "light"
     },
     "output_type": "display_data"
    }
   ],
   "source": [
    "# Canceled Vs Not Canceled By average number of previous cancellations\n",
    "\n",
    "plt.title(\"Average Number of previous cancellations per Status\", fontsize = 20, pad = 10)\n",
    "sns.barplot(x=hotel_booking['is_canceled'], y=hotel_booking['previous_cancellations'])\n",
    "plt.xlabel(\"Booking Status\", fontsize = 12, labelpad = 5)\n",
    "plt.ylabel(\"Average Number of previous cancellations\", fontsize = 12, labelpad = 5)\n",
    "plt.xticks(ticks=[0, 1], labels=['Not Canceled', 'Canceled']);"
   ],
   "metadata": {
    "collapsed": false
   }
  },
  {
   "cell_type": "code",
   "execution_count": 39,
   "outputs": [
    {
     "data": {
      "text/plain": "<Figure size 720x360 with 1 Axes>",
      "image/png": "[encoded data removed]"
     },
     "metadata": {
      "needs_background": "light"
     },
     "output_type": "display_data"
    }
   ],
   "source": [
    "# Percentage of booking cancelled for room types\n",
    "\n",
    "plt.figure(figsize=(10,5))\n",
    "plt.title(\"Percentage of Bookings Canceled for Each Reserved Room Type\", fontsize = 20, pad = 10)\n",
    "sns.barplot(x=hotel_booking['reserved_room_type'], y=hotel_booking['is_canceled'])\n",
    "plt.xlabel(\"Room Type\", fontsize = 12, labelpad = 5)\n",
    "plt.ylabel(\"Percentage of Bookings Canceled\", fontsize = 12, labelpad = 5);"
   ],
   "metadata": {
    "collapsed": false
   }
  },
  {
   "cell_type": "code",
   "execution_count": 40,
   "outputs": [
    {
     "data": {
      "text/plain": "<Figure size 720x360 with 1 Axes>",
      "image/png": "[encoded data removed]"
     },
     "metadata": {
      "needs_background": "light"
     },
     "output_type": "display_data"
    }
   ],
   "source": [
    "# Percentage of booking cancelled for deposit types\n",
    "\n",
    "plt.figure(figsize=(10,5))\n",
    "plt.title(\"Percentage of Bookings Canceled for Each Deposit Type\", fontsize = 20, pad = 10)\n",
    "sns.barplot(x=hotel_booking['deposit_type'], y=hotel_booking['is_canceled'])\n",
    "plt.xlabel(\"Deposit Type\", fontsize = 12, labelpad = 5)\n",
    "plt.ylabel(\"Percentage of Bookings Canceled\", fontsize = 12, labelpad = 5);"
   ],
   "metadata": {
    "collapsed": false
   }
  },
  {
   "cell_type": "markdown",
   "source": [
    "## Clustering"
   ],
   "metadata": {
    "collapsed": false
   }
  },
  {
   "cell_type": "markdown",
   "source": [
    "**Create the clusters to customer segmentation and improve the features of the dataset**"
   ],
   "metadata": {
    "collapsed": false
   }
  },
  {
   "cell_type": "code",
   "execution_count": 41,
   "outputs": [],
   "source": [
    "X = hotel_booking.drop(columns=['is_canceled', 'reservation_status', 'agent', 'company', 'country', 'reservation_status_date', 'arrival_date_full'])"
   ],
   "metadata": {
    "collapsed": false
   }
  },
  {
   "cell_type": "code",
   "execution_count": 42,
   "outputs": [
    {
     "data": {
      "text/plain": "   lead_time  arrival_date_year arrival_date_month  arrival_date_week_number  \\\n0        342               2015               July                        27   \n1        737               2015               July                        27   \n2          7               2015               July                        27   \n3         13               2015               July                        27   \n4         14               2015               July                        27   \n\n   arrival_date_day_of_month  stays_in_weekend_nights  stays_in_week_nights  \\\n0                          1                        0                     0   \n1                          1                        0                     0   \n2                          1                        0                     1   \n3                          1                        0                     1   \n4                          1                        0                     2   \n\n   adults  children  babies  ... assigned_room_type booking_changes  \\\n0       2         0       0  ...                  C               3   \n1       2         0       0  ...                  C               4   \n2       1         0       0  ...                  C               0   \n3       1         0       0  ...                  A               0   \n4       2         0       0  ...                  A               0   \n\n  deposit_type  days_in_waiting_list  customer_type   adr  \\\n0   No Deposit                     0      Transient   0.0   \n1   No Deposit                     0      Transient   0.0   \n2   No Deposit                     0      Transient  75.0   \n3   No Deposit                     0      Transient  75.0   \n4   No Deposit                     0      Transient  98.0   \n\n  required_car_parking_spaces total_of_special_requests  is_h1  \\\n0                           0                         0      1   \n1                           0                         0      1   \n2                           0                         0      1   \n3                           0                         0      1   \n4                           0                         1      1   \n\n  status_minus_arrival_date  \n0                         0  \n1                         0  \n2                         1  \n3                         1  \n4                         2  \n\n[5 rows x 27 columns]",
      "text/html": "<div>\n<style scoped>\n    .dataframe tbody tr th:only-of-type {\n        vertical-align: middle;\n    }\n\n    .dataframe tbody tr th {\n        vertical-align: top;\n    }\n\n    .dataframe thead th {\n        text-align: right;\n    }\n</style>\n<table border=\"1\" class=\"dataframe\">\n  <thead>\n    <tr style=\"text-align: right;\">\n      <th></th>\n      <th>lead_time</th>\n      <th>arrival_date_year</th>\n      <th>arrival_date_month</th>\n      <th>arrival_date_week_number</th>\n      <th>arrival_date_day_of_month</th>\n      <th>stays_in_weekend_nights</th>\n      <th>stays_in_week_nights</th>\n      <th>adults</th>\n      <th>children</th>\n      <th>babies</th>\n      <th>...</th>\n      <th>assigned_room_type</th>\n      <th>booking_changes</th>\n      <th>deposit_type</th>\n      <th>days_in_waiting_list</th>\n      <th>customer_type</th>\n      <th>adr</th>\n      <th>required_car_parking_spaces</th>\n      <th>total_of_special_requests</th>\n      <th>is_h1</th>\n      <th>status_minus_arrival_date</th>\n    </tr>\n  </thead>\n  <tbody>\n    <tr>\n      <th>0</th>\n      <td>342</td>\n      <td>2015</td>\n      <td>July</td>\n      <td>27</td>\n      <td>1</td>\n      <td>0</td>\n      <td>0</td>\n      <td>2</td>\n      <td>0</td>\n      <td>0</td>\n      <td>...</td>\n      <td>C</td>\n      <td>3</td>\n      <td>No Deposit</td>\n      <td>0</td>\n      <td>Transient</td>\n      <td>0.0</td>\n      <td>0</td>\n      <td>0</td>\n      <td>1</td>\n      <td>0</td>\n    </tr>\n    <tr>\n      <th>1</th>\n      <td>737</td>\n      <td>2015</td>\n      <td>July</td>\n      <td>27</td>\n      <td>1</td>\n      <td>0</td>\n      <td>0</td>\n      <td>2</td>\n      <td>0</td>\n      <td>0</td>\n      <td>...</td>\n      <td>C</td>\n      <td>4</td>\n      <td>No Deposit</td>\n      <td>0</td>\n      <td>Transient</td>\n      <td>0.0</td>\n      <td>0</td>\n      <td>0</td>\n      <td>1</td>\n      <td>0</td>\n    </tr>\n    <tr>\n      <th>2</th>\n      <td>7</td>\n      <td>2015</td>\n      <td>July</td>\n      <td>27</td>\n      <td>1</td>\n      <td>0</td>\n      <td>1</td>\n      <td>1</td>\n      <td>0</td>\n      <td>0</td>\n      <td>...</td>\n      <td>C</td>\n      <td>0</td>\n      <td>No Deposit</td>\n      <td>0</td>\n      <td>Transient</td>\n      <td>75.0</td>\n      <td>0</td>\n      <td>0</td>\n      <td>1</td>\n      <td>1</td>\n    </tr>\n    <tr>\n      <th>3</th>\n      <td>13</td>\n      <td>2015</td>\n      <td>July</td>\n      <td>27</td>\n      <td>1</td>\n      <td>0</td>\n      <td>1</td>\n      <td>1</td>\n      <td>0</td>\n      <td>0</td>\n      <td>...</td>\n      <td>A</td>\n      <td>0</td>\n      <td>No Deposit</td>\n      <td>0</td>\n      <td>Transient</td>\n      <td>75.0</td>\n      <td>0</td>\n      <td>0</td>\n      <td>1</td>\n      <td>1</td>\n    </tr>\n    <tr>\n      <th>4</th>\n      <td>14</td>\n      <td>2015</td>\n      <td>July</td>\n      <td>27</td>\n      <td>1</td>\n      <td>0</td>\n      <td>2</td>\n      <td>2</td>\n      <td>0</td>\n      <td>0</td>\n      <td>...</td>\n      <td>A</td>\n      <td>0</td>\n      <td>No Deposit</td>\n      <td>0</td>\n      <td>Transient</td>\n      <td>98.0</td>\n      <td>0</td>\n      <td>1</td>\n      <td>1</td>\n      <td>2</td>\n    </tr>\n  </tbody>\n</table>\n<p>5 rows × 27 columns</p>\n</div>"
     },
     "execution_count": 42,
     "metadata": {},
     "output_type": "execute_result"
    }
   ],
   "source": [
    "X.head()"
   ],
   "metadata": {
    "collapsed": false
   }
  },
  {
   "cell_type": "markdown",
   "source": [
    "#### K-Prototypes Clusterning\n",
    "\n",
    "* Since our dataset have both numerical and categorical features, K-Prototype clustering is the most appropriate model to create clusters"
   ],
   "metadata": {
    "collapsed": false
   }
  },
  {
   "cell_type": "code",
   "execution_count": 43,
   "outputs": [],
   "source": [
    "# Creating a loop to try our different number of clusters:\n",
    "# kproto_costs = []\n",
    "# for n in range(2, 8):\n",
    "#     #do the clustering\n",
    "#     kproto = KPrototypes(n_clusters=n, init='Huang', verbose=2, n_jobs=3, random_state=42, n_jobs=3)\n",
    "#     clusters = kproto.fit_predict(X, categorical=[2, 10, 11, 12, 13, 16, 17, 19, 21, 25])\n",
    "#     print(f'cost: {kproto.cost_}')\n",
    "#     print(f'iter: {kproto.n_iter_}')\n",
    "#\n",
    "#     # get cost\n",
    "#     cost = kproto.cost_\n",
    "#\n",
    "#     #gather them\n",
    "#     kproto_costs.append((n, cost))"
   ],
   "metadata": {
    "collapsed": false
   }
  },
  {
   "cell_type": "code",
   "execution_count": 44,
   "outputs": [],
   "source": [
    "# costs_df = pd.DataFrame(kproto_costs, columns=['n', 'cost'])\n",
    "# costs_df"
   ],
   "metadata": {
    "collapsed": false
   }
  },
  {
   "cell_type": "code",
   "execution_count": 45,
   "outputs": [],
   "source": [
    "# plt.figure(figsize=(10,5))\n",
    "# plt.plot(costs_df['n'], costs_df['cost'])\n",
    "# plt.xticks([2,3,4,5,6,7])\n",
    "# plt.xlabel('Number of Clusters', fontsize=12)\n",
    "# plt.ylabel('Cost', size=12)\n",
    "# plt.title('Cost per Number of K-Prototype Cluster', size=20);"
   ],
   "metadata": {
    "collapsed": false
   }
  },
  {
   "cell_type": "code",
   "execution_count": 46,
   "outputs": [],
   "source": [
    "# Creating the 4 customer clusters:\n",
    "# kproto = KPrototypes(n_clusters=4, init='Huang', verbose=0, random_state=42, n_jobs=3)\n",
    "# clusters = kproto.fit_predict(X, categorical=[2, 10, 11, 12, 13, 16, 17, 19, 21, 25])\n",
    "# print(f'cost: {kproto.cost_}')"
   ],
   "metadata": {
    "collapsed": false
   }
  },
  {
   "cell_type": "code",
   "execution_count": 47,
   "outputs": [],
   "source": [
    "# pickle.dump(kproto, open('Models/kproto.pkl', 'wb'))"
   ],
   "metadata": {
    "collapsed": false
   }
  },
  {
   "cell_type": "code",
   "execution_count": 50,
   "outputs": [],
   "source": [
    "kproto_loded = pickle.load(open('Models/kproto.pkl', 'rb'))"
   ],
   "metadata": {
    "collapsed": false
   }
  },
  {
   "cell_type": "code",
   "execution_count": 51,
   "outputs": [
    {
     "name": "stdout",
     "output_type": "stream",
     "text": [
      "cost: 436604819.63317287\n"
     ]
    }
   ],
   "source": [
    "clusters = kproto_loded.fit_predict(X, categorical=[2, 10, 11, 12, 13, 16, 17, 19, 21, 25])\n",
    "print(f'cost: {kproto_loded.cost_}')"
   ],
   "metadata": {
    "collapsed": false
   }
  },
  {
   "cell_type": "code",
   "execution_count": 52,
   "outputs": [],
   "source": [
    "# Creating a \"clusters\" feature in our dataset:\n",
    "hotel_booking['clusters'] = clusters"
   ],
   "metadata": {
    "collapsed": false
   }
  },
  {
   "cell_type": "code",
   "execution_count": 53,
   "outputs": [],
   "source": [
    "# Renaming the clusters:\n",
    "hotel_booking['clusters'] = hotel_booking['clusters'].map({0:'Type 1', 1:'Type 2', 2:'Type 3', 3:'Type 4'})"
   ],
   "metadata": {
    "collapsed": false
   }
  },
  {
   "cell_type": "code",
   "execution_count": 54,
   "outputs": [
    {
     "data": {
      "text/plain": "   is_canceled  lead_time  arrival_date_year arrival_date_month  \\\n0            0        342               2015               July   \n1            0        737               2015               July   \n2            0          7               2015               July   \n3            0         13               2015               July   \n4            0         14               2015               July   \n\n   arrival_date_week_number  arrival_date_day_of_month  \\\n0                        27                          1   \n1                        27                          1   \n2                        27                          1   \n3                        27                          1   \n4                        27                          1   \n\n   stays_in_weekend_nights  stays_in_week_nights  adults  children  ...  \\\n0                        0                     0       2         0  ...   \n1                        0                     0       2         0  ...   \n2                        0                     1       1         0  ...   \n3                        0                     1       1         0  ...   \n4                        0                     2       2         0  ...   \n\n   customer_type   adr required_car_parking_spaces total_of_special_requests  \\\n0      Transient   0.0                           0                         0   \n1      Transient   0.0                           0                         0   \n2      Transient  75.0                           0                         0   \n3      Transient  75.0                           0                         0   \n4      Transient  98.0                           0                         1   \n\n  reservation_status  reservation_status_date  is_h1  arrival_date_full  \\\n0          Check-Out               2015-07-01      1         2015-07-01   \n1          Check-Out               2015-07-01      1         2015-07-01   \n2          Check-Out               2015-07-02      1         2015-07-01   \n3          Check-Out               2015-07-02      1         2015-07-01   \n4          Check-Out               2015-07-03      1         2015-07-01   \n\n  status_minus_arrival_date clusters  \n0                         0   Type 1  \n1                         0   Type 1  \n2                         1   Type 3  \n3                         1   Type 3  \n4                         2   Type 3  \n\n[5 rows x 35 columns]",
      "text/html": "<div>\n<style scoped>\n    .dataframe tbody tr th:only-of-type {\n        vertical-align: middle;\n    }\n\n    .dataframe tbody tr th {\n        vertical-align: top;\n    }\n\n    .dataframe thead th {\n        text-align: right;\n    }\n</style>\n<table border=\"1\" class=\"dataframe\">\n  <thead>\n    <tr style=\"text-align: right;\">\n      <th></th>\n      <th>is_canceled</th>\n      <th>lead_time</th>\n      <th>arrival_date_year</th>\n      <th>arrival_date_month</th>\n      <th>arrival_date_week_number</th>\n      <th>arrival_date_day_of_month</th>\n      <th>stays_in_weekend_nights</th>\n      <th>stays_in_week_nights</th>\n      <th>adults</th>\n      <th>children</th>\n      <th>...</th>\n      <th>customer_type</th>\n      <th>adr</th>\n      <th>required_car_parking_spaces</th>\n      <th>total_of_special_requests</th>\n      <th>reservation_status</th>\n      <th>reservation_status_date</th>\n      <th>is_h1</th>\n      <th>arrival_date_full</th>\n      <th>status_minus_arrival_date</th>\n      <th>clusters</th>\n    </tr>\n  </thead>\n  <tbody>\n    <tr>\n      <th>0</th>\n      <td>0</td>\n      <td>342</td>\n      <td>2015</td>\n      <td>July</td>\n      <td>27</td>\n      <td>1</td>\n      <td>0</td>\n      <td>0</td>\n      <td>2</td>\n      <td>0</td>\n      <td>...</td>\n      <td>Transient</td>\n      <td>0.0</td>\n      <td>0</td>\n      <td>0</td>\n      <td>Check-Out</td>\n      <td>2015-07-01</td>\n      <td>1</td>\n      <td>2015-07-01</td>\n      <td>0</td>\n      <td>Type 1</td>\n    </tr>\n    <tr>\n      <th>1</th>\n      <td>0</td>\n      <td>737</td>\n      <td>2015</td>\n      <td>July</td>\n      <td>27</td>\n      <td>1</td>\n      <td>0</td>\n      <td>0</td>\n      <td>2</td>\n      <td>0</td>\n      <td>...</td>\n      <td>Transient</td>\n      <td>0.0</td>\n      <td>0</td>\n      <td>0</td>\n      <td>Check-Out</td>\n      <td>2015-07-01</td>\n      <td>1</td>\n      <td>2015-07-01</td>\n      <td>0</td>\n      <td>Type 1</td>\n    </tr>\n    <tr>\n      <th>2</th>\n      <td>0</td>\n      <td>7</td>\n      <td>2015</td>\n      <td>July</td>\n      <td>27</td>\n      <td>1</td>\n      <td>0</td>\n      <td>1</td>\n      <td>1</td>\n      <td>0</td>\n      <td>...</td>\n      <td>Transient</td>\n      <td>75.0</td>\n      <td>0</td>\n      <td>0</td>\n      <td>Check-Out</td>\n      <td>2015-07-02</td>\n      <td>1</td>\n      <td>2015-07-01</td>\n      <td>1</td>\n      <td>Type 3</td>\n    </tr>\n    <tr>\n      <th>3</th>\n      <td>0</td>\n      <td>13</td>\n      <td>2015</td>\n      <td>July</td>\n      <td>27</td>\n      <td>1</td>\n      <td>0</td>\n      <td>1</td>\n      <td>1</td>\n      <td>0</td>\n      <td>...</td>\n      <td>Transient</td>\n      <td>75.0</td>\n      <td>0</td>\n      <td>0</td>\n      <td>Check-Out</td>\n      <td>2015-07-02</td>\n      <td>1</td>\n      <td>2015-07-01</td>\n      <td>1</td>\n      <td>Type 3</td>\n    </tr>\n    <tr>\n      <th>4</th>\n      <td>0</td>\n      <td>14</td>\n      <td>2015</td>\n      <td>July</td>\n      <td>27</td>\n      <td>1</td>\n      <td>0</td>\n      <td>2</td>\n      <td>2</td>\n      <td>0</td>\n      <td>...</td>\n      <td>Transient</td>\n      <td>98.0</td>\n      <td>0</td>\n      <td>1</td>\n      <td>Check-Out</td>\n      <td>2015-07-03</td>\n      <td>1</td>\n      <td>2015-07-01</td>\n      <td>2</td>\n      <td>Type 3</td>\n    </tr>\n  </tbody>\n</table>\n<p>5 rows × 35 columns</p>\n</div>"
     },
     "execution_count": 54,
     "metadata": {},
     "output_type": "execute_result"
    }
   ],
   "source": [
    "hotel_booking.head()"
   ],
   "metadata": {
    "collapsed": false
   }
  },
  {
   "cell_type": "code",
   "execution_count": 55,
   "outputs": [],
   "source": [
    "# Save the dataframe to csv for the future usages\n",
    "# hotel_booking.to_csv('DATA/hotel_booking_with_cluster.csv', index=False)"
   ],
   "metadata": {
    "collapsed": false
   }
  },
  {
   "cell_type": "code",
   "execution_count": 56,
   "outputs": [],
   "source": [
    "hotel_booking = pd.read_csv('DATA/hotel_booking_with_cluster.csv')"
   ],
   "metadata": {
    "collapsed": false
   }
  },
  {
   "cell_type": "code",
   "execution_count": 57,
   "outputs": [
    {
     "data": {
      "text/plain": "   is_canceled  lead_time  arrival_date_year arrival_date_month  \\\n0            0        342               2015               July   \n1            0        737               2015               July   \n2            0          7               2015               July   \n3            0         13               2015               July   \n4            0         14               2015               July   \n\n   arrival_date_week_number  arrival_date_day_of_month  \\\n0                        27                          1   \n1                        27                          1   \n2                        27                          1   \n3                        27                          1   \n4                        27                          1   \n\n   stays_in_weekend_nights  stays_in_week_nights  adults  children  ...  \\\n0                        0                     0       2         0  ...   \n1                        0                     0       2         0  ...   \n2                        0                     1       1         0  ...   \n3                        0                     1       1         0  ...   \n4                        0                     2       2         0  ...   \n\n   customer_type   adr required_car_parking_spaces total_of_special_requests  \\\n0      Transient   0.0                           0                         0   \n1      Transient   0.0                           0                         0   \n2      Transient  75.0                           0                         0   \n3      Transient  75.0                           0                         0   \n4      Transient  98.0                           0                         1   \n\n  reservation_status  reservation_status_date  is_h1  arrival_date_full  \\\n0          Check-Out               2015-07-01      1         2015-07-01   \n1          Check-Out               2015-07-01      1         2015-07-01   \n2          Check-Out               2015-07-02      1         2015-07-01   \n3          Check-Out               2015-07-02      1         2015-07-01   \n4          Check-Out               2015-07-03      1         2015-07-01   \n\n  status_minus_arrival_date clusters  \n0                         0   Type 1  \n1                         0   Type 1  \n2                         1   Type 3  \n3                         1   Type 3  \n4                         2   Type 3  \n\n[5 rows x 35 columns]",
      "text/html": "<div>\n<style scoped>\n    .dataframe tbody tr th:only-of-type {\n        vertical-align: middle;\n    }\n\n    .dataframe tbody tr th {\n        vertical-align: top;\n    }\n\n    .dataframe thead th {\n        text-align: right;\n    }\n</style>\n<table border=\"1\" class=\"dataframe\">\n  <thead>\n    <tr style=\"text-align: right;\">\n      <th></th>\n      <th>is_canceled</th>\n      <th>lead_time</th>\n      <th>arrival_date_year</th>\n      <th>arrival_date_month</th>\n      <th>arrival_date_week_number</th>\n      <th>arrival_date_day_of_month</th>\n      <th>stays_in_weekend_nights</th>\n      <th>stays_in_week_nights</th>\n      <th>adults</th>\n      <th>children</th>\n      <th>...</th>\n      <th>customer_type</th>\n      <th>adr</th>\n      <th>required_car_parking_spaces</th>\n      <th>total_of_special_requests</th>\n      <th>reservation_status</th>\n      <th>reservation_status_date</th>\n      <th>is_h1</th>\n      <th>arrival_date_full</th>\n      <th>status_minus_arrival_date</th>\n      <th>clusters</th>\n    </tr>\n  </thead>\n  <tbody>\n    <tr>\n      <th>0</th>\n      <td>0</td>\n      <td>342</td>\n      <td>2015</td>\n      <td>July</td>\n      <td>27</td>\n      <td>1</td>\n      <td>0</td>\n      <td>0</td>\n      <td>2</td>\n      <td>0</td>\n      <td>...</td>\n      <td>Transient</td>\n      <td>0.0</td>\n      <td>0</td>\n      <td>0</td>\n      <td>Check-Out</td>\n      <td>2015-07-01</td>\n      <td>1</td>\n      <td>2015-07-01</td>\n      <td>0</td>\n      <td>Type 1</td>\n    </tr>\n    <tr>\n      <th>1</th>\n      <td>0</td>\n      <td>737</td>\n      <td>2015</td>\n      <td>July</td>\n      <td>27</td>\n      <td>1</td>\n      <td>0</td>\n      <td>0</td>\n      <td>2</td>\n      <td>0</td>\n      <td>...</td>\n      <td>Transient</td>\n      <td>0.0</td>\n      <td>0</td>\n      <td>0</td>\n      <td>Check-Out</td>\n      <td>2015-07-01</td>\n      <td>1</td>\n      <td>2015-07-01</td>\n      <td>0</td>\n      <td>Type 1</td>\n    </tr>\n    <tr>\n      <th>2</th>\n      <td>0</td>\n      <td>7</td>\n      <td>2015</td>\n      <td>July</td>\n      <td>27</td>\n      <td>1</td>\n      <td>0</td>\n      <td>1</td>\n      <td>1</td>\n      <td>0</td>\n      <td>...</td>\n      <td>Transient</td>\n      <td>75.0</td>\n      <td>0</td>\n      <td>0</td>\n      <td>Check-Out</td>\n      <td>2015-07-02</td>\n      <td>1</td>\n      <td>2015-07-01</td>\n      <td>1</td>\n      <td>Type 3</td>\n    </tr>\n    <tr>\n      <th>3</th>\n      <td>0</td>\n      <td>13</td>\n      <td>2015</td>\n      <td>July</td>\n      <td>27</td>\n      <td>1</td>\n      <td>0</td>\n      <td>1</td>\n      <td>1</td>\n      <td>0</td>\n      <td>...</td>\n      <td>Transient</td>\n      <td>75.0</td>\n      <td>0</td>\n      <td>0</td>\n      <td>Check-Out</td>\n      <td>2015-07-02</td>\n      <td>1</td>\n      <td>2015-07-01</td>\n      <td>1</td>\n      <td>Type 3</td>\n    </tr>\n    <tr>\n      <th>4</th>\n      <td>0</td>\n      <td>14</td>\n      <td>2015</td>\n      <td>July</td>\n      <td>27</td>\n      <td>1</td>\n      <td>0</td>\n      <td>2</td>\n      <td>2</td>\n      <td>0</td>\n      <td>...</td>\n      <td>Transient</td>\n      <td>98.0</td>\n      <td>0</td>\n      <td>1</td>\n      <td>Check-Out</td>\n      <td>2015-07-03</td>\n      <td>1</td>\n      <td>2015-07-01</td>\n      <td>2</td>\n      <td>Type 3</td>\n    </tr>\n  </tbody>\n</table>\n<p>5 rows × 35 columns</p>\n</div>"
     },
     "execution_count": 57,
     "metadata": {},
     "output_type": "execute_result"
    }
   ],
   "source": [
    "hotel_booking.head()"
   ],
   "metadata": {
    "collapsed": false
   }
  },
  {
   "cell_type": "markdown",
   "source": [
    "## Model Preparation"
   ],
   "metadata": {
    "collapsed": false
   }
  },
  {
   "cell_type": "code",
   "execution_count": 58,
   "outputs": [],
   "source": [
    "hotel_booking = pd.get_dummies(hotel_booking, columns=['arrival_date_month', 'meal', 'market_segment', 'distribution_channel', 'reserved_room_type', 'assigned_room_type', 'deposit_type', 'customer_type', 'clusters'])"
   ],
   "metadata": {
    "collapsed": false
   }
  },
  {
   "cell_type": "code",
   "execution_count": 59,
   "outputs": [
    {
     "data": {
      "text/plain": "   is_canceled  lead_time  arrival_date_year  arrival_date_week_number  \\\n0            0        342               2015                        27   \n1            0        737               2015                        27   \n2            0          7               2015                        27   \n3            0         13               2015                        27   \n4            0         14               2015                        27   \n\n   arrival_date_day_of_month  stays_in_weekend_nights  stays_in_week_nights  \\\n0                          1                        0                     0   \n1                          1                        0                     0   \n2                          1                        0                     1   \n3                          1                        0                     1   \n4                          1                        0                     2   \n\n   adults  children  babies  ... deposit_type_Non Refund  \\\n0       2         0       0  ...                       0   \n1       2         0       0  ...                       0   \n2       1         0       0  ...                       0   \n3       1         0       0  ...                       0   \n4       2         0       0  ...                       0   \n\n   deposit_type_Refundable  customer_type_Contract  customer_type_Group  \\\n0                        0                       0                    0   \n1                        0                       0                    0   \n2                        0                       0                    0   \n3                        0                       0                    0   \n4                        0                       0                    0   \n\n   customer_type_Transient customer_type_Transient-Party clusters_Type 1  \\\n0                        1                             0               1   \n1                        1                             0               1   \n2                        1                             0               0   \n3                        1                             0               0   \n4                        1                             0               0   \n\n   clusters_Type 2  clusters_Type 3  clusters_Type 4  \n0                0                0                0  \n1                0                0                0  \n2                0                1                0  \n3                0                1                0  \n4                0                1                0  \n\n[5 rows x 88 columns]",
      "text/html": "<div>\n<style scoped>\n    .dataframe tbody tr th:only-of-type {\n        vertical-align: middle;\n    }\n\n    .dataframe tbody tr th {\n        vertical-align: top;\n    }\n\n    .dataframe thead th {\n        text-align: right;\n    }\n</style>\n<table border=\"1\" class=\"dataframe\">\n  <thead>\n    <tr style=\"text-align: right;\">\n      <th></th>\n      <th>is_canceled</th>\n      <th>lead_time</th>\n      <th>arrival_date_year</th>\n      <th>arrival_date_week_number</th>\n      <th>arrival_date_day_of_month</th>\n      <th>stays_in_weekend_nights</th>\n      <th>stays_in_week_nights</th>\n      <th>adults</th>\n      <th>children</th>\n      <th>babies</th>\n      <th>...</th>\n      <th>deposit_type_Non Refund</th>\n      <th>deposit_type_Refundable</th>\n      <th>customer_type_Contract</th>\n      <th>customer_type_Group</th>\n      <th>customer_type_Transient</th>\n      <th>customer_type_Transient-Party</th>\n      <th>clusters_Type 1</th>\n      <th>clusters_Type 2</th>\n      <th>clusters_Type 3</th>\n      <th>clusters_Type 4</th>\n    </tr>\n  </thead>\n  <tbody>\n    <tr>\n      <th>0</th>\n      <td>0</td>\n      <td>342</td>\n      <td>2015</td>\n      <td>27</td>\n      <td>1</td>\n      <td>0</td>\n      <td>0</td>\n      <td>2</td>\n      <td>0</td>\n      <td>0</td>\n      <td>...</td>\n      <td>0</td>\n      <td>0</td>\n      <td>0</td>\n      <td>0</td>\n      <td>1</td>\n      <td>0</td>\n      <td>1</td>\n      <td>0</td>\n      <td>0</td>\n      <td>0</td>\n    </tr>\n    <tr>\n      <th>1</th>\n      <td>0</td>\n      <td>737</td>\n      <td>2015</td>\n      <td>27</td>\n      <td>1</td>\n      <td>0</td>\n      <td>0</td>\n      <td>2</td>\n      <td>0</td>\n      <td>0</td>\n      <td>...</td>\n      <td>0</td>\n      <td>0</td>\n      <td>0</td>\n      <td>0</td>\n      <td>1</td>\n      <td>0</td>\n      <td>1</td>\n      <td>0</td>\n      <td>0</td>\n      <td>0</td>\n    </tr>\n    <tr>\n      <th>2</th>\n      <td>0</td>\n      <td>7</td>\n      <td>2015</td>\n      <td>27</td>\n      <td>1</td>\n      <td>0</td>\n      <td>1</td>\n      <td>1</td>\n      <td>0</td>\n      <td>0</td>\n      <td>...</td>\n      <td>0</td>\n      <td>0</td>\n      <td>0</td>\n      <td>0</td>\n      <td>1</td>\n      <td>0</td>\n      <td>0</td>\n      <td>0</td>\n      <td>1</td>\n      <td>0</td>\n    </tr>\n    <tr>\n      <th>3</th>\n      <td>0</td>\n      <td>13</td>\n      <td>2015</td>\n      <td>27</td>\n      <td>1</td>\n      <td>0</td>\n      <td>1</td>\n      <td>1</td>\n      <td>0</td>\n      <td>0</td>\n      <td>...</td>\n      <td>0</td>\n      <td>0</td>\n      <td>0</td>\n      <td>0</td>\n      <td>1</td>\n      <td>0</td>\n      <td>0</td>\n      <td>0</td>\n      <td>1</td>\n      <td>0</td>\n    </tr>\n    <tr>\n      <th>4</th>\n      <td>0</td>\n      <td>14</td>\n      <td>2015</td>\n      <td>27</td>\n      <td>1</td>\n      <td>0</td>\n      <td>2</td>\n      <td>2</td>\n      <td>0</td>\n      <td>0</td>\n      <td>...</td>\n      <td>0</td>\n      <td>0</td>\n      <td>0</td>\n      <td>0</td>\n      <td>1</td>\n      <td>0</td>\n      <td>0</td>\n      <td>0</td>\n      <td>1</td>\n      <td>0</td>\n    </tr>\n  </tbody>\n</table>\n<p>5 rows × 88 columns</p>\n</div>"
     },
     "execution_count": 59,
     "metadata": {},
     "output_type": "execute_result"
    }
   ],
   "source": [
    "hotel_booking.head()"
   ],
   "metadata": {
    "collapsed": false
   }
  },
  {
   "cell_type": "code",
   "execution_count": 60,
   "outputs": [],
   "source": [
    "X = hotel_booking.drop(columns=['is_canceled','reservation_status', 'agent', 'company', 'country',\n",
    "                     'reservation_status_date', 'arrival_date_full'])\n",
    "y = hotel_booking['is_canceled']"
   ],
   "metadata": {
    "collapsed": false
   }
  },
  {
   "cell_type": "code",
   "execution_count": 61,
   "outputs": [],
   "source": [
    "X_train, X_test, y_train, y_test = train_test_split(X, y, random_state=42, stratify=y, test_size=0.15)"
   ],
   "metadata": {
    "collapsed": false
   }
  },
  {
   "cell_type": "markdown",
   "source": [
    "## Modeling"
   ],
   "metadata": {
    "collapsed": false
   }
  },
  {
   "cell_type": "markdown",
   "source": [
    "#### Baseline Model"
   ],
   "metadata": {
    "collapsed": false
   }
  },
  {
   "cell_type": "code",
   "source": [
    "dummy = DummyClassifier(strategy=\"most_frequent\")\n",
    "dummy.fit(X_train, y_train)"
   ],
   "metadata": {
    "collapsed": false
   },
   "execution_count": 62,
   "outputs": [
    {
     "data": {
      "text/plain": "DummyClassifier(strategy='most_frequent')"
     },
     "execution_count": 62,
     "metadata": {},
     "output_type": "execute_result"
    }
   ]
  },
  {
   "cell_type": "code",
   "execution_count": 63,
   "outputs": [],
   "source": [
    "dummy_training_score = dummy.score(X_train, y_train)\n",
    "dummy_testing_score = dummy.score(X_test, y_test)"
   ],
   "metadata": {
    "collapsed": false
   }
  },
  {
   "cell_type": "code",
   "execution_count": 64,
   "outputs": [
    {
     "name": "stdout",
     "output_type": "stream",
     "text": [
      "Training Score (Baseline): 0.6296044462839236\n",
      "Testing Score (Baseline): 0.6296068796068796\n"
     ]
    }
   ],
   "source": [
    "print(f'Training Score (Baseline): {dummy_training_score}')\n",
    "print(f'Testing Score (Baseline): {dummy_testing_score}')"
   ],
   "metadata": {
    "collapsed": false
   }
  },
  {
   "cell_type": "markdown",
   "source": [
    "#### Logistic Regression Model"
   ],
   "metadata": {
    "collapsed": false
   }
  },
  {
   "cell_type": "code",
   "execution_count": 65,
   "outputs": [],
   "source": [
    "# lg = LogisticRegression(random_state=42)\n",
    "# lg.get_params()"
   ],
   "metadata": {
    "collapsed": false
   }
  },
  {
   "cell_type": "markdown",
   "source": [
    "**Baseline Logistic Regression**"
   ],
   "metadata": {
    "collapsed": false
   }
  },
  {
   "cell_type": "code",
   "execution_count": 66,
   "outputs": [],
   "source": [
    "# lg.fit(X_train, y_train)\n",
    "#\n",
    "# lg_training_accuaracy = lg.score(X_train, y_train)\n",
    "# lg_testing_accuaracy = lg.score(X_test, y_test)\n",
    "# lg_cross_val_score = cross_val_score(lg, X, y, cv=StratifiedKFold(shuffle=True)).mean()"
   ],
   "metadata": {
    "collapsed": false
   }
  },
  {
   "cell_type": "code",
   "execution_count": 67,
   "outputs": [],
   "source": [
    "# print(f'Baseline Logistic Regression Training Accuracy: {lg_training_accuaracy}')\n",
    "# print(f'Baseline Logistic Regression Testing Accuracy: {lg_testing_accuaracy}')\n",
    "# print(f'Baseline Logistic Regression Cross-val-score: {lg_cross_val_score}')"
   ],
   "metadata": {
    "collapsed": false
   }
  },
  {
   "cell_type": "code",
   "execution_count": 68,
   "outputs": [],
   "source": [
    "# pickle.dump(lg, open('Models/logistic_regression_baseline.pkl', 'wb'))"
   ],
   "metadata": {
    "collapsed": false
   }
  },
  {
   "cell_type": "code",
   "execution_count": 69,
   "outputs": [
    {
     "name": "stderr",
     "output_type": "stream",
     "text": [
      "C:\\Users\\Jasmi\\anaconda3\\lib\\site-packages\\sklearn\\base.py:329: UserWarning: Trying to unpickle estimator LogisticRegression from version 1.1.1 when using version 1.0.2. This might lead to breaking code or invalid results. Use at your own risk. For more info please refer to:\n",
      "https://scikit-learn.org/stable/modules/model_persistence.html#security-maintainability-limitations\n",
      "  warnings.warn(\n"
     ]
    }
   ],
   "source": [
    "lg_baseline_loded = pickle.load(open('Models/logistic_regression_baseline.pkl', 'rb'))"
   ],
   "metadata": {
    "collapsed": false
   }
  },
  {
   "cell_type": "code",
   "execution_count": 70,
   "outputs": [
    {
     "name": "stderr",
     "output_type": "stream",
     "text": [
      "C:\\Users\\Jasmi\\anaconda3\\lib\\site-packages\\sklearn\\linear_model\\_logistic.py:814: ConvergenceWarning: lbfgs failed to converge (status=1):\n",
      "STOP: TOTAL NO. of ITERATIONS REACHED LIMIT.\n",
      "\n",
      "Increase the number of iterations (max_iter) or scale the data as shown in:\n",
      "    https://scikit-learn.org/stable/modules/preprocessing.html\n",
      "Please also refer to the documentation for alternative solver options:\n",
      "    https://scikit-learn.org/stable/modules/linear_model.html#logistic-regression\n",
      "  n_iter_i = _check_optimize_result(\n",
      "C:\\Users\\Jasmi\\anaconda3\\lib\\site-packages\\sklearn\\linear_model\\_logistic.py:814: ConvergenceWarning: lbfgs failed to converge (status=1):\n",
      "STOP: TOTAL NO. of ITERATIONS REACHED LIMIT.\n",
      "\n",
      "Increase the number of iterations (max_iter) or scale the data as shown in:\n",
      "    https://scikit-learn.org/stable/modules/preprocessing.html\n",
      "Please also refer to the documentation for alternative solver options:\n",
      "    https://scikit-learn.org/stable/modules/linear_model.html#logistic-regression\n",
      "  n_iter_i = _check_optimize_result(\n",
      "C:\\Users\\Jasmi\\anaconda3\\lib\\site-packages\\sklearn\\linear_model\\_logistic.py:814: ConvergenceWarning: lbfgs failed to converge (status=1):\n",
      "STOP: TOTAL NO. of ITERATIONS REACHED LIMIT.\n",
      "\n",
      "Increase the number of iterations (max_iter) or scale the data as shown in:\n",
      "    https://scikit-learn.org/stable/modules/preprocessing.html\n",
      "Please also refer to the documentation for alternative solver options:\n",
      "    https://scikit-learn.org/stable/modules/linear_model.html#logistic-regression\n",
      "  n_iter_i = _check_optimize_result(\n",
      "C:\\Users\\Jasmi\\anaconda3\\lib\\site-packages\\sklearn\\linear_model\\_logistic.py:814: ConvergenceWarning: lbfgs failed to converge (status=1):\n",
      "STOP: TOTAL NO. of ITERATIONS REACHED LIMIT.\n",
      "\n",
      "Increase the number of iterations (max_iter) or scale the data as shown in:\n",
      "    https://scikit-learn.org/stable/modules/preprocessing.html\n",
      "Please also refer to the documentation for alternative solver options:\n",
      "    https://scikit-learn.org/stable/modules/linear_model.html#logistic-regression\n",
      "  n_iter_i = _check_optimize_result(\n",
      "C:\\Users\\Jasmi\\anaconda3\\lib\\site-packages\\sklearn\\linear_model\\_logistic.py:814: ConvergenceWarning: lbfgs failed to converge (status=1):\n",
      "STOP: TOTAL NO. of ITERATIONS REACHED LIMIT.\n",
      "\n",
      "Increase the number of iterations (max_iter) or scale the data as shown in:\n",
      "    https://scikit-learn.org/stable/modules/preprocessing.html\n",
      "Please also refer to the documentation for alternative solver options:\n",
      "    https://scikit-learn.org/stable/modules/linear_model.html#logistic-regression\n",
      "  n_iter_i = _check_optimize_result(\n"
     ]
    }
   ],
   "source": [
    "lg_training_accuaracy = lg_baseline_loded.score(X_train, y_train)\n",
    "lg_testing_accuaracy = lg_baseline_loded.score(X_test, y_test)\n",
    "lg_cross_val_score = cross_val_score(lg_baseline_loded, X, y, cv=StratifiedKFold(shuffle=True)).mean()"
   ],
   "metadata": {
    "collapsed": false
   }
  },
  {
   "cell_type": "code",
   "execution_count": 71,
   "outputs": [
    {
     "name": "stdout",
     "output_type": "stream",
     "text": [
      "Baseline Logistic Regression Training Accuracy: 0.7824947279213228\n",
      "Baseline Logistic Regression Testing Accuracy: 0.7824436006254188\n",
      "Baseline Logistic Regression Cross-val-score: 0.7672341129672715\n"
     ]
    }
   ],
   "source": [
    "print(f'Baseline Logistic Regression Training Accuracy: {lg_training_accuaracy}')\n",
    "print(f'Baseline Logistic Regression Testing Accuracy: {lg_testing_accuaracy}')\n",
    "print(f'Baseline Logistic Regression Cross-val-score: {lg_cross_val_score}')"
   ],
   "metadata": {
    "collapsed": false
   }
  },
  {
   "cell_type": "markdown",
   "source": [
    "**Hyperparameter Tuned (Grid Searched) Logistic Regression**"
   ],
   "metadata": {
    "collapsed": false
   }
  },
  {
   "cell_type": "code",
   "execution_count": 72,
   "outputs": [],
   "source": [
    "# lg_gs_grid = {\n",
    "#     'penalty': ['none', 'l1', 'l2'],\n",
    "#     'C': [3.0, 3.5, 4.0],\n",
    "#     'max_iter': [100, 200, 300],\n",
    "#     'solver': ['liblinear', 'sag', 'saga']\n",
    "# }\n",
    "#\n",
    "# lg_gs = GridSearchCV(estimator=LogisticRegression(random_state=42),\n",
    "#                      param_grid=lg_gs_grid,\n",
    "#                      scoring='accuracy',\n",
    "#                      cv=5,\n",
    "#                      n_jobs=3,\n",
    "#                      verbose=2)\n",
    "#\n",
    "# lg_gs.fit(X_train, y_train)"
   ],
   "metadata": {
    "collapsed": false
   }
  },
  {
   "cell_type": "code",
   "execution_count": 73,
   "outputs": [],
   "source": [
    "# lg_gs_training_accuaracy = lg_gs.score(X_train, y_train)\n",
    "# lg_gs_testing_accuaracy = lg_gs.score(X_test, y_test)\n",
    "# lg_gs_cross_val_score = cross_val_score(lg_gs.best_estimator_, X, y, cv=StratifiedKFold(shuffle=True)).mean()"
   ],
   "metadata": {
    "collapsed": false
   }
  },
  {
   "cell_type": "code",
   "execution_count": 74,
   "outputs": [],
   "source": [
    "# print(f'Best Logistic Regression Training Accuracy: {lg_gs_training_accuaracy}')\n",
    "# print(f'Best Logistic Regression Testing Accuracy: {lg_gs_testing_accuaracy}')\n",
    "# print(f'Best Logistic Regression Cross-val-score: {lg_gs_cross_val_score}')"
   ],
   "metadata": {
    "collapsed": false
   }
  },
  {
   "cell_type": "code",
   "execution_count": 75,
   "outputs": [],
   "source": [
    "# pickle.dump(lg_gs, open('Models/logistic_regression_gs.pkl', 'wb'))"
   ],
   "metadata": {
    "collapsed": false
   }
  },
  {
   "cell_type": "code",
   "execution_count": 76,
   "outputs": [
    {
     "name": "stderr",
     "output_type": "stream",
     "text": [
      "C:\\Users\\Jasmi\\anaconda3\\lib\\site-packages\\sklearn\\base.py:329: UserWarning: Trying to unpickle estimator LogisticRegression from version 1.1.1 when using version 1.0.2. This might lead to breaking code or invalid results. Use at your own risk. For more info please refer to:\n",
      "https://scikit-learn.org/stable/modules/model_persistence.html#security-maintainability-limitations\n",
      "  warnings.warn(\n",
      "C:\\Users\\Jasmi\\anaconda3\\lib\\site-packages\\sklearn\\base.py:329: UserWarning: Trying to unpickle estimator GridSearchCV from version 1.1.1 when using version 1.0.2. This might lead to breaking code or invalid results. Use at your own risk. For more info please refer to:\n",
      "https://scikit-learn.org/stable/modules/model_persistence.html#security-maintainability-limitations\n",
      "  warnings.warn(\n"
     ]
    }
   ],
   "source": [
    "lg_gs_loded = pickle.load(open('Models/logistic_regression_gs.pkl', 'rb'))"
   ],
   "metadata": {
    "collapsed": false
   }
  },
  {
   "cell_type": "code",
   "execution_count": 77,
   "outputs": [],
   "source": [
    "lg_gs_training_accuaracy = lg_gs_loded.score(X_train, y_train)\n",
    "lg_gs_testing_accuaracy = lg_gs_loded.score(X_test, y_test)\n",
    "lg_gs_cross_val_score = cross_val_score(lg_gs_loded.best_estimator_, X, y, cv=StratifiedKFold(shuffle=True)).mean()"
   ],
   "metadata": {
    "collapsed": false
   }
  },
  {
   "cell_type": "code",
   "execution_count": 78,
   "outputs": [
    {
     "name": "stdout",
     "output_type": "stream",
     "text": [
      "Best Logistic Regression Training Accuracy: 0.8135556475295138\n",
      "Best Logistic Regression Testing Accuracy: 0.8123743578289033\n",
      "Best Logistic Regression Cross-val-score: 0.812901015939372\n"
     ]
    }
   ],
   "source": [
    "print(f'Best Logistic Regression Training Accuracy: {lg_gs_training_accuaracy}')\n",
    "print(f'Best Logistic Regression Testing Accuracy: {lg_gs_testing_accuaracy}')\n",
    "print(f'Best Logistic Regression Cross-val-score: {lg_gs_cross_val_score}')"
   ],
   "metadata": {
    "collapsed": false
   }
  },
  {
   "cell_type": "markdown",
   "source": [
    "#### Decision Tree Classification Model"
   ],
   "metadata": {
    "collapsed": false
   }
  },
  {
   "cell_type": "markdown",
   "source": [
    "**Baseline Decision Tree Classification**"
   ],
   "metadata": {
    "collapsed": false
   }
  },
  {
   "cell_type": "code",
   "execution_count": 79,
   "outputs": [],
   "source": [
    "# dt = DecisionTreeClassifier(random_state=42)\n",
    "# dt.get_params()"
   ],
   "metadata": {
    "collapsed": false
   }
  },
  {
   "cell_type": "code",
   "execution_count": 80,
   "outputs": [],
   "source": [
    "# dt.fit(X_train, y_train)\n",
    "#\n",
    "# dt_training_accuaracy = dt.score(X_train, y_train)\n",
    "# dt_testing_accuaracy = dt.score(X_test, y_test)\n",
    "# dt_cross_val_score = cross_val_score(dt, X, y, cv=StratifiedKFold(shuffle=True)).mean()"
   ],
   "metadata": {
    "collapsed": false
   }
  },
  {
   "cell_type": "code",
   "execution_count": 81,
   "outputs": [],
   "source": [
    "# print(f'Baseline Decision Tree Classifire Training Accuracy: {dt_training_accuaracy}')\n",
    "# print(f'Baseline Decision Tree Classifire Testing Accuracy: {dt_testing_accuaracy}')\n",
    "# print(f'Baseline Decision Tree Classifire Cross-val-score: {dt_cross_val_score}')"
   ],
   "metadata": {
    "collapsed": false
   }
  },
  {
   "cell_type": "code",
   "execution_count": 82,
   "outputs": [],
   "source": [
    "# pickle.dump(dt, open('Models/decision_tree_classifire_baseline.pkl', 'wb'))"
   ],
   "metadata": {
    "collapsed": false
   }
  },
  {
   "cell_type": "code",
   "execution_count": 83,
   "outputs": [
    {
     "name": "stderr",
     "output_type": "stream",
     "text": [
      "C:\\Users\\Jasmi\\anaconda3\\lib\\site-packages\\sklearn\\base.py:329: UserWarning: Trying to unpickle estimator DecisionTreeClassifier from version 1.1.1 when using version 1.0.2. This might lead to breaking code or invalid results. Use at your own risk. For more info please refer to:\n",
      "https://scikit-learn.org/stable/modules/model_persistence.html#security-maintainability-limitations\n",
      "  warnings.warn(\n"
     ]
    }
   ],
   "source": [
    "dt_baseline_loded = pickle.load(open('Models/decision_tree_classifire_baseline.pkl', 'rb'))"
   ],
   "metadata": {
    "collapsed": false
   }
  },
  {
   "cell_type": "code",
   "execution_count": 84,
   "outputs": [],
   "source": [
    "dt_training_accuaracy = dt_baseline_loded.score(X_train, y_train)\n",
    "dt_testing_accuaracy = dt_baseline_loded.score(X_test, y_test)\n",
    "dt_cross_val_score = cross_val_score(dt_baseline_loded, X, y, cv=StratifiedKFold(shuffle=True)).mean()"
   ],
   "metadata": {
    "collapsed": false
   }
  },
  {
   "cell_type": "code",
   "execution_count": 85,
   "outputs": [
    {
     "name": "stdout",
     "output_type": "stream",
     "text": [
      "Baseline Decision Tree Classifire Training Accuracy: 0.9988174776798912\n",
      "Baseline Decision Tree Classifire Testing Accuracy: 0.9395242349787805\n",
      "Baseline Decision Tree Classifire Cross-val-score: 0.9376560049357853\n"
     ]
    }
   ],
   "source": [
    "print(f'Baseline Decision Tree Classifire Training Accuracy: {dt_training_accuaracy}')\n",
    "print(f'Baseline Decision Tree Classifire Testing Accuracy: {dt_testing_accuaracy}')\n",
    "print(f'Baseline Decision Tree Classifire Cross-val-score: {dt_cross_val_score}')"
   ],
   "metadata": {
    "collapsed": false
   }
  },
  {
   "cell_type": "markdown",
   "source": [
    "**Hyperparameter Tuned (Grid Searched) Decision Tree Classification**"
   ],
   "metadata": {
    "collapsed": false
   }
  },
  {
   "cell_type": "code",
   "execution_count": 86,
   "outputs": [],
   "source": [
    "# dt_gs_grid = {\n",
    "#     'max_depth':[None, 2, 5, 10],\n",
    "#     'max_features' : [0.5, 0.7, 0.9],\n",
    "#     'min_samples_split': [2, 5, 10, 25, 30],\n",
    "#     'min_samples_leaf': [1, 2, 3]\n",
    "# }\n",
    "#\n",
    "# dt_gs = GridSearchCV(estimator=DecisionTreeClassifier(random_state=42),\n",
    "#                      param_grid=dt_gs_grid,\n",
    "#                      scoring='accuracy',\n",
    "#                      cv=5,\n",
    "#                      n_jobs=3,\n",
    "#                      verbose=2)\n",
    "#\n",
    "# dt_gs.fit(X_train, y_train)"
   ],
   "metadata": {
    "collapsed": false
   }
  },
  {
   "cell_type": "code",
   "execution_count": 87,
   "outputs": [],
   "source": [
    "# dt_gs_training_accuaracy = dt_gs.score(X_train, y_train)\n",
    "# dt_gs_testing_accuaracy = dt_gs.score(X_test, y_test)\n",
    "# dt_gs_cross_val_score = cross_val_score(dt_gs.best_estimator_, X, y, cv=StratifiedKFold(shuffle=True)).mean()"
   ],
   "metadata": {
    "collapsed": false
   }
  },
  {
   "cell_type": "code",
   "execution_count": 88,
   "outputs": [],
   "source": [
    "# print(f'Best Decision Tree Classifire Training Accuracy: {dt_gs_training_accuaracy}')\n",
    "# print(f'Best Decision Tree Classifire Testing Accuracy: {dt_gs_testing_accuaracy}')\n",
    "# print(f'Best Decision Tree Classifire Cross-val-score: {dt_gs_cross_val_score}')"
   ],
   "metadata": {
    "collapsed": false
   }
  },
  {
   "cell_type": "code",
   "execution_count": 89,
   "outputs": [],
   "source": [
    "# pickle.dump(dt_gs, open('Models/decision_tree_classifire_gs.pkl', 'wb'))"
   ],
   "metadata": {
    "collapsed": false
   }
  },
  {
   "cell_type": "code",
   "execution_count": 90,
   "outputs": [
    {
     "name": "stderr",
     "output_type": "stream",
     "text": [
      "C:\\Users\\Jasmi\\anaconda3\\lib\\site-packages\\sklearn\\base.py:329: UserWarning: Trying to unpickle estimator DecisionTreeClassifier from version 1.1.1 when using version 1.0.2. This might lead to breaking code or invalid results. Use at your own risk. For more info please refer to:\n",
      "https://scikit-learn.org/stable/modules/model_persistence.html#security-maintainability-limitations\n",
      "  warnings.warn(\n",
      "C:\\Users\\Jasmi\\anaconda3\\lib\\site-packages\\sklearn\\base.py:329: UserWarning: Trying to unpickle estimator GridSearchCV from version 1.1.1 when using version 1.0.2. This might lead to breaking code or invalid results. Use at your own risk. For more info please refer to:\n",
      "https://scikit-learn.org/stable/modules/model_persistence.html#security-maintainability-limitations\n",
      "  warnings.warn(\n"
     ]
    }
   ],
   "source": [
    "dt_gs_loded = pickle.load(open('Models/decision_tree_classifire_gs.pkl', 'rb'))"
   ],
   "metadata": {
    "collapsed": false
   }
  },
  {
   "cell_type": "code",
   "execution_count": 91,
   "outputs": [],
   "source": [
    "dt_gs_training_accuaracy = dt_gs_loded.score(X_train, y_train)\n",
    "dt_gs_testing_accuaracy = dt_gs_loded.score(X_test, y_test)\n",
    "dt_gs_cross_val_score = cross_val_score(dt_gs_loded.best_estimator_, X, y, cv=StratifiedKFold(shuffle=True)).mean()"
   ],
   "metadata": {
    "collapsed": false
   }
  },
  {
   "cell_type": "code",
   "execution_count": 92,
   "outputs": [
    {
     "name": "stdout",
     "output_type": "stream",
     "text": [
      "Best Decision Tree Classifire Training Accuracy: 0.9608388024990638\n",
      "Best Decision Tree Classifire Testing Accuracy: 0.9343310252401161\n",
      "Best Decision Tree Classifire Cross-val-score: 0.9359891899007513\n"
     ]
    }
   ],
   "source": [
    "print(f'Best Decision Tree Classifire Training Accuracy: {dt_gs_training_accuaracy}')\n",
    "print(f'Best Decision Tree Classifire Testing Accuracy: {dt_gs_testing_accuaracy}')\n",
    "print(f'Best Decision Tree Classifire Cross-val-score: {dt_gs_cross_val_score}')"
   ],
   "metadata": {
    "collapsed": false
   }
  },
  {
   "cell_type": "markdown",
   "source": [
    "#### Bagging Classification"
   ],
   "metadata": {
    "collapsed": false
   }
  },
  {
   "cell_type": "markdown",
   "source": [
    "**Baseline Bagging Classification**"
   ],
   "metadata": {
    "collapsed": false
   }
  },
  {
   "cell_type": "code",
   "execution_count": 93,
   "outputs": [],
   "source": [
    "# bc = BaggingClassifier(random_state=42)\n",
    "# bc.get_params()"
   ],
   "metadata": {
    "collapsed": false
   }
  },
  {
   "cell_type": "code",
   "execution_count": 94,
   "outputs": [],
   "source": [
    "# bc.fit(X_train, y_train)\n",
    "#\n",
    "# bc_training_accuaracy = bc.score(X_train, y_train)\n",
    "# bc_testing_accuaracy = bc.score(X_test, y_test)\n",
    "# bc_cross_val_score = cross_val_score(bc, X, y, cv=StratifiedKFold(shuffle=True)).mean()"
   ],
   "metadata": {
    "collapsed": false
   }
  },
  {
   "cell_type": "code",
   "execution_count": 95,
   "outputs": [],
   "source": [
    "# print(f'Baseline Bagging Classifire Training Accuracy: {bc_training_accuaracy}')\n",
    "# print(f'Baseline Bagging Classifire Testing Accuracy: {bc_testing_accuaracy}')\n",
    "# print(f'Baseline Bagging Classifire Cross-val-score: {bc_cross_val_score}')"
   ],
   "metadata": {
    "collapsed": false
   }
  },
  {
   "cell_type": "code",
   "execution_count": 96,
   "outputs": [],
   "source": [
    "# pickle.dump(bc, open('Models/bagging_classifire_baseline.pkl', 'wb'))"
   ],
   "metadata": {
    "collapsed": false
   }
  },
  {
   "cell_type": "code",
   "execution_count": 97,
   "outputs": [
    {
     "name": "stderr",
     "output_type": "stream",
     "text": [
      "C:\\Users\\Jasmi\\anaconda3\\lib\\site-packages\\sklearn\\base.py:329: UserWarning: Trying to unpickle estimator DecisionTreeClassifier from version 1.1.1 when using version 1.0.2. This might lead to breaking code or invalid results. Use at your own risk. For more info please refer to:\n",
      "https://scikit-learn.org/stable/modules/model_persistence.html#security-maintainability-limitations\n",
      "  warnings.warn(\n",
      "C:\\Users\\Jasmi\\anaconda3\\lib\\site-packages\\sklearn\\base.py:329: UserWarning: Trying to unpickle estimator BaggingClassifier from version 1.1.1 when using version 1.0.2. This might lead to breaking code or invalid results. Use at your own risk. For more info please refer to:\n",
      "https://scikit-learn.org/stable/modules/model_persistence.html#security-maintainability-limitations\n",
      "  warnings.warn(\n"
     ]
    }
   ],
   "source": [
    "bc_baseline_loded = pickle.load(open('Models/bagging_classifire_baseline.pkl', 'rb'))"
   ],
   "metadata": {
    "collapsed": false
   }
  },
  {
   "cell_type": "code",
   "execution_count": 98,
   "outputs": [],
   "source": [
    "bc_training_accuaracy = bc_baseline_loded.score(X_train, y_train)\n",
    "bc_testing_accuaracy = bc_baseline_loded.score(X_test, y_test)\n",
    "bc_cross_val_score = cross_val_score(bc_baseline_loded, X, y, cv=StratifiedKFold(shuffle=True)).mean()"
   ],
   "metadata": {
    "collapsed": false
   }
  },
  {
   "cell_type": "code",
   "execution_count": 99,
   "outputs": [
    {
     "name": "stdout",
     "output_type": "stream",
     "text": [
      "Baseline Bagging Classifire Training Accuracy: 0.9944519994481562\n",
      "Baseline Bagging Classifire Testing Accuracy: 0.9585660040205495\n",
      "Baseline Bagging Classifire Cross-val-score: 0.9570552722735289\n"
     ]
    }
   ],
   "source": [
    "print(f'Baseline Bagging Classifire Training Accuracy: {bc_training_accuaracy}')\n",
    "print(f'Baseline Bagging Classifire Testing Accuracy: {bc_testing_accuaracy}')\n",
    "print(f'Baseline Bagging Classifire Cross-val-score: {bc_cross_val_score}')"
   ],
   "metadata": {
    "collapsed": false
   }
  },
  {
   "cell_type": "markdown",
   "source": [
    "**Hyperparameter Tuned (Grid Searched) Bagging Classification**"
   ],
   "metadata": {
    "collapsed": false
   }
  },
  {
   "cell_type": "code",
   "execution_count": 100,
   "outputs": [],
   "source": [
    "# bc_gs_grid = {\n",
    "#     'n_estimators': [20, 30, 45, 50],\n",
    "#     'max_features': [0.5, 0.8, 1, 1.5]\n",
    "# }\n",
    "#\n",
    "# bc_gs = GridSearchCV(estimator=BaggingClassifier(random_state=42),\n",
    "#                      param_grid=bc_gs_grid,\n",
    "#                      scoring='accuracy',\n",
    "#                      cv=5,\n",
    "#                      n_jobs=3,\n",
    "#                      verbose=2)\n",
    "#\n",
    "# bc_gs.fit(X_train, y_train)"
   ],
   "metadata": {
    "collapsed": false
   }
  },
  {
   "cell_type": "code",
   "execution_count": 101,
   "outputs": [],
   "source": [
    "# bc_gs_training_accuaracy = bc_gs.score(X_train, y_train)\n",
    "# bc_gs_testing_accuaracy = bc_gs.score(X_test, y_test)\n",
    "# bc_gs_cross_val_score = cross_val_score(bc_gs.best_estimator_, X, y, cv=StratifiedKFold(shuffle=True)).mean()"
   ],
   "metadata": {
    "collapsed": false
   }
  },
  {
   "cell_type": "code",
   "execution_count": 102,
   "outputs": [],
   "source": [
    "# print(f'Best Bagging Classifire Training Accuracy: {bc_gs_training_accuaracy}')\n",
    "# print(f'Best Bagging Classifire Testing Accuracy: {bc_gs_testing_accuaracy}')\n",
    "# print(f'Best Bagging Classifire Cross-val-score: {bc_gs_cross_val_score}')"
   ],
   "metadata": {
    "collapsed": false
   }
  },
  {
   "cell_type": "code",
   "execution_count": 103,
   "outputs": [],
   "source": [
    "# pickle.dump(bc_gs, open('Models/bagging_classifire_gs.pkl', 'wb'))"
   ],
   "metadata": {
    "collapsed": false
   }
  },
  {
   "cell_type": "code",
   "execution_count": 104,
   "outputs": [
    {
     "name": "stderr",
     "output_type": "stream",
     "text": [
      "C:\\Users\\Jasmi\\anaconda3\\lib\\site-packages\\sklearn\\base.py:329: UserWarning: Trying to unpickle estimator BaggingClassifier from version 1.1.1 when using version 1.0.2. This might lead to breaking code or invalid results. Use at your own risk. For more info please refer to:\n",
      "https://scikit-learn.org/stable/modules/model_persistence.html#security-maintainability-limitations\n",
      "  warnings.warn(\n",
      "C:\\Users\\Jasmi\\anaconda3\\lib\\site-packages\\sklearn\\base.py:329: UserWarning: Trying to unpickle estimator DecisionTreeClassifier from version 1.1.1 when using version 1.0.2. This might lead to breaking code or invalid results. Use at your own risk. For more info please refer to:\n",
      "https://scikit-learn.org/stable/modules/model_persistence.html#security-maintainability-limitations\n",
      "  warnings.warn(\n",
      "C:\\Users\\Jasmi\\anaconda3\\lib\\site-packages\\sklearn\\base.py:329: UserWarning: Trying to unpickle estimator GridSearchCV from version 1.1.1 when using version 1.0.2. This might lead to breaking code or invalid results. Use at your own risk. For more info please refer to:\n",
      "https://scikit-learn.org/stable/modules/model_persistence.html#security-maintainability-limitations\n",
      "  warnings.warn(\n"
     ]
    }
   ],
   "source": [
    "bc_gs_loded = pickle.load(open('Models/bagging_classifire_gs.pkl', 'rb'))"
   ],
   "metadata": {
    "collapsed": false
   }
  },
  {
   "cell_type": "code",
   "execution_count": 105,
   "outputs": [],
   "source": [
    "bc_gs_training_accuaracy = bc_gs_loded.score(X_train, y_train)\n",
    "bc_gs_testing_accuaracy = bc_gs_loded.score(X_test, y_test)\n",
    "bc_gs_cross_val_score = cross_val_score(bc_gs_loded.best_estimator_, X, y, cv=StratifiedKFold(shuffle=True)).mean()"
   ],
   "metadata": {
    "collapsed": false
   }
  },
  {
   "cell_type": "code",
   "execution_count": 106,
   "outputs": [
    {
     "name": "stdout",
     "output_type": "stream",
     "text": [
      "Best Bagging Classifire Training Accuracy: 0.9987287885058831\n",
      "Best Bagging Classifire Testing Accuracy: 0.9640384185838732\n",
      "Best Bagging Classifire Cross-val-score: 0.9619637096972081\n"
     ]
    }
   ],
   "source": [
    "print(f'Best Bagging Classifire Training Accuracy: {bc_gs_training_accuaracy}')\n",
    "print(f'Best Bagging Classifire Testing Accuracy: {bc_gs_testing_accuaracy}')\n",
    "print(f'Best Bagging Classifire Cross-val-score: {bc_gs_cross_val_score}')"
   ],
   "metadata": {
    "collapsed": false
   }
  },
  {
   "cell_type": "markdown",
   "source": [
    "#### Random Forest Classification"
   ],
   "metadata": {
    "collapsed": false
   }
  },
  {
   "cell_type": "markdown",
   "source": [
    "**Baseline random Forest Classification**"
   ],
   "metadata": {
    "collapsed": false
   }
  },
  {
   "cell_type": "code",
   "execution_count": 107,
   "outputs": [],
   "source": [
    "# rf = RandomForestClassifier(random_state=42)\n",
    "# rf.get_params()"
   ],
   "metadata": {
    "collapsed": false
   }
  },
  {
   "cell_type": "code",
   "execution_count": 108,
   "outputs": [],
   "source": [
    "# rf.fit(X_train, y_train)\n",
    "#\n",
    "# rf_training_accuaracy = rf.score(X_train, y_train)\n",
    "# rf_testing_accuaracy = rf.score(X_test, y_test)\n",
    "# rf_cross_val_score = cross_val_score(rf, X, y, cv=StratifiedKFold(shuffle=True)).mean()"
   ],
   "metadata": {
    "collapsed": false
   }
  },
  {
   "cell_type": "code",
   "execution_count": 109,
   "outputs": [],
   "source": [
    "# print(f'Baseline Random Forest Classifire Training Accuracy: {rf_training_accuaracy}')\n",
    "# print(f'Baseline Random Forest Classifire Classifire Testing Accuracy: {rf_testing_accuaracy}')\n",
    "# print(f'Baseline Random Forest Classifire Classifire Cross-val-score: {rf_cross_val_score}')"
   ],
   "metadata": {
    "collapsed": false
   }
  },
  {
   "cell_type": "code",
   "execution_count": 110,
   "outputs": [],
   "source": [
    "# pickle.dump(rf, open('Models/random_forest_classifire_baseline.pkl', 'wb'))"
   ],
   "metadata": {
    "collapsed": false
   }
  },
  {
   "cell_type": "code",
   "execution_count": 111,
   "outputs": [
    {
     "name": "stderr",
     "output_type": "stream",
     "text": [
      "C:\\Users\\Jasmi\\anaconda3\\lib\\site-packages\\sklearn\\base.py:329: UserWarning: Trying to unpickle estimator DecisionTreeClassifier from version 1.1.1 when using version 1.0.2. This might lead to breaking code or invalid results. Use at your own risk. For more info please refer to:\n",
      "https://scikit-learn.org/stable/modules/model_persistence.html#security-maintainability-limitations\n",
      "  warnings.warn(\n",
      "C:\\Users\\Jasmi\\anaconda3\\lib\\site-packages\\sklearn\\base.py:329: UserWarning: Trying to unpickle estimator RandomForestClassifier from version 1.1.1 when using version 1.0.2. This might lead to breaking code or invalid results. Use at your own risk. For more info please refer to:\n",
      "https://scikit-learn.org/stable/modules/model_persistence.html#security-maintainability-limitations\n",
      "  warnings.warn(\n"
     ]
    }
   ],
   "source": [
    "rf_baseline_loded = pickle.load(open('Models/random_forest_classifire_baseline.pkl', 'rb'))"
   ],
   "metadata": {
    "collapsed": false
   }
  },
  {
   "cell_type": "code",
   "execution_count": 112,
   "outputs": [],
   "source": [
    "rf_training_accuaracy = rf_baseline_loded.score(X_train, y_train)\n",
    "rf_testing_accuaracy = rf_baseline_loded.score(X_test, y_test)\n",
    "rf_cross_val_score = cross_val_score(rf_baseline_loded, X, y, cv=StratifiedKFold(shuffle=True)).mean()"
   ],
   "metadata": {
    "collapsed": false
   }
  },
  {
   "cell_type": "code",
   "execution_count": 113,
   "outputs": [
    {
     "name": "stdout",
     "output_type": "stream",
     "text": [
      "Baseline Random Forest Classifire Training Accuracy: 0.9988076233272236\n",
      "Baseline Random Forest Classifire Testing Accuracy: 0.9407527362072816\n",
      "Baseline Random Forest Classifire Cross-val-score: 0.9363074510109979\n"
     ]
    }
   ],
   "source": [
    "print(f'Baseline Random Forest Classifire Training Accuracy: {rf_training_accuaracy}')\n",
    "print(f'Baseline Random Forest Classifire Testing Accuracy: {rf_testing_accuaracy}')\n",
    "print(f'Baseline Random Forest Classifire Cross-val-score: {rf_cross_val_score}')"
   ],
   "metadata": {
    "collapsed": false
   }
  },
  {
   "cell_type": "markdown",
   "source": [
    "**Hyperparameter Tuned (Grid Searched) Random Forest Classification**"
   ],
   "metadata": {
    "collapsed": false
   }
  },
  {
   "cell_type": "code",
   "execution_count": 114,
   "outputs": [],
   "source": [
    "# rf_gs_grid = {\n",
    "#     'n_estimators': [100, 150, 200],\n",
    "#     'max_features': [40, 45, 50, 55],\n",
    "#     'max_depth': [None, 8, 13, 15]\n",
    "# }\n",
    "#\n",
    "# rf_gs = GridSearchCV(estimator=RandomForestClassifier(random_state=42),\n",
    "#                      param_grid=rf_gs_grid,\n",
    "#                      scoring='accuracy',\n",
    "#                      cv=5,\n",
    "#                      n_jobs=3,\n",
    "#                      verbose=2)\n",
    "#\n",
    "# rf_gs.fit(X_train, y_train)"
   ],
   "metadata": {
    "collapsed": false
   }
  },
  {
   "cell_type": "code",
   "execution_count": 115,
   "outputs": [],
   "source": [
    "# rf_gs_training_accuaracy = rf_gs.score(X_train, y_train)\n",
    "# rf_gs_testing_accuaracy = rf_gs.score(X_test, y_test)\n",
    "# rf_gs_cross_val_score = cross_val_score(rf_gs.best_estimator_, X, y, cv=StratifiedKFold(shuffle=True)).mean()"
   ],
   "metadata": {
    "collapsed": false
   }
  },
  {
   "cell_type": "code",
   "execution_count": 116,
   "outputs": [],
   "source": [
    "# print(f'Best Random Forest Classifire Training Accuracy: {rf_gs_training_accuaracy}')\n",
    "# print(f'Best Random Forest Classifire Testing Accuracy: {rf_gs_testing_accuaracy}')\n",
    "# print(f'Best Random Forest Classifire Cross-val-score: {rf_gs_cross_val_score}')"
   ],
   "metadata": {
    "collapsed": false
   }
  },
  {
   "cell_type": "code",
   "execution_count": 117,
   "outputs": [],
   "source": [
    "# pickle.dump(rf_gs, open('Models/random_forest_classifire_gs.pkl', 'wb'))"
   ],
   "metadata": {
    "collapsed": false
   }
  },
  {
   "cell_type": "code",
   "execution_count": 118,
   "outputs": [
    {
     "name": "stderr",
     "output_type": "stream",
     "text": [
      "C:\\Users\\Jasmi\\anaconda3\\lib\\site-packages\\sklearn\\base.py:329: UserWarning: Trying to unpickle estimator DecisionTreeClassifier from version 1.1.1 when using version 1.0.2. This might lead to breaking code or invalid results. Use at your own risk. For more info please refer to:\n",
      "https://scikit-learn.org/stable/modules/model_persistence.html#security-maintainability-limitations\n",
      "  warnings.warn(\n",
      "C:\\Users\\Jasmi\\anaconda3\\lib\\site-packages\\sklearn\\base.py:329: UserWarning: Trying to unpickle estimator RandomForestClassifier from version 1.1.1 when using version 1.0.2. This might lead to breaking code or invalid results. Use at your own risk. For more info please refer to:\n",
      "https://scikit-learn.org/stable/modules/model_persistence.html#security-maintainability-limitations\n",
      "  warnings.warn(\n",
      "C:\\Users\\Jasmi\\anaconda3\\lib\\site-packages\\sklearn\\base.py:329: UserWarning: Trying to unpickle estimator GridSearchCV from version 1.1.1 when using version 1.0.2. This might lead to breaking code or invalid results. Use at your own risk. For more info please refer to:\n",
      "https://scikit-learn.org/stable/modules/model_persistence.html#security-maintainability-limitations\n",
      "  warnings.warn(\n"
     ]
    }
   ],
   "source": [
    "rf_gs_loded = pickle.load(open('Models/random_forest_classifire_gs.pkl', 'rb'))"
   ],
   "metadata": {
    "collapsed": false
   }
  },
  {
   "cell_type": "code",
   "execution_count": 119,
   "outputs": [],
   "source": [
    "rf_gs_training_accuaracy = rf_gs_loded.score(X_train, y_train)\n",
    "rf_gs_testing_accuaracy = rf_gs_loded.score(X_test, y_test)\n",
    "rf_gs_cross_val_score = cross_val_score(rf_gs_loded.best_estimator_, X, y, cv=StratifiedKFold(shuffle=True)).mean()"
   ],
   "metadata": {
    "collapsed": false
   }
  },
  {
   "cell_type": "code",
   "execution_count": 120,
   "outputs": [
    {
     "name": "stdout",
     "output_type": "stream",
     "text": [
      "Best Random Forest Classifire Training Accuracy: 0.9224166814481957\n",
      "Best Random Forest Classifire Testing Accuracy: 0.9185838731293277\n",
      "Best Random Forest Classifire Cross-val-score: 0.9172683485426958\n"
     ]
    }
   ],
   "source": [
    "print(f'Best Random Forest Classifire Training Accuracy: {rf_gs_training_accuaracy}')\n",
    "print(f'Best Random Forest Classifire Testing Accuracy: {rf_gs_testing_accuaracy}')\n",
    "print(f'Best Random Forest Classifire Cross-val-score: {rf_gs_cross_val_score}')"
   ],
   "metadata": {
    "collapsed": false
   }
  },
  {
   "cell_type": "markdown",
   "source": [
    "#### Neural Network - Sequential Model"
   ],
   "metadata": {
    "collapsed": false
   }
  },
  {
   "cell_type": "code",
   "execution_count": 121,
   "outputs": [],
   "source": [
    "# X.shape"
   ],
   "metadata": {
    "collapsed": false
   }
  },
  {
   "cell_type": "code",
   "execution_count": 122,
   "outputs": [],
   "source": [
    "ss = StandardScaler()\n",
    "X_train_sc = ss.fit_transform(X_train)\n",
    "X_test_sc = ss.transform(X_test)"
   ],
   "metadata": {
    "collapsed": false
   }
  },
  {
   "cell_type": "code",
   "execution_count": 123,
   "outputs": [],
   "source": [
    "# model = Sequential()\n",
    "# model.add(Dense(64, activation='relu', input_shape=(81,)))\n",
    "# model.add(Dropout(0.18))\n",
    "# model.add(Dense(32, activation='relu'))\n",
    "# model.add(Dropout(0.15))\n",
    "# model.add(Dense(1, activation='sigmoid'))\n",
    "# es = EarlyStopping(monitor='val_loss', patience=5)"
   ],
   "metadata": {
    "collapsed": false
   }
  },
  {
   "cell_type": "code",
   "execution_count": 124,
   "outputs": [],
   "source": [
    "# model.compile(loss='binary_crossentropy',\n",
    "#               optimizer='adam',\n",
    "#               metrics=['binary_accuracy'])"
   ],
   "metadata": {
    "collapsed": false
   }
  },
  {
   "cell_type": "code",
   "execution_count": 125,
   "outputs": [],
   "source": [
    "# history = model.fit(X_train_sc,\n",
    "#                     y_train,\n",
    "#                     batch_size = 256,\n",
    "#                     validation_data =(X_test_sc, y_test),\n",
    "#                     epochs = 500,\n",
    "#                     verbose = 2,\n",
    "#                     callbacks=[es])"
   ],
   "metadata": {
    "collapsed": false
   }
  },
  {
   "cell_type": "code",
   "execution_count": 126,
   "outputs": [],
   "source": [
    "# train_loss = history.history['loss']\n",
    "# test_loss = history.history['val_loss']\n",
    "#\n",
    "# # Training and Testing loss by epoch\n",
    "#\n",
    "# plt.figure(figsize=(10, 5))\n",
    "# plt.plot(train_loss, label='Training Loss', color='#185fad')\n",
    "# plt.plot(test_loss, label='Testing Loss', color='orange')\n",
    "# plt.title('Training and Testing Loss by Epoch', fontsize = 20)\n",
    "# plt.xlabel('Epoch', fontsize = 11)\n",
    "# plt.ylabel('Binary Crossentropy', fontsize = 11)\n",
    "# plt.legend(fontsize = 11);"
   ],
   "metadata": {
    "collapsed": false
   }
  },
  {
   "cell_type": "code",
   "execution_count": 127,
   "outputs": [],
   "source": [
    "# # Training and Testing accuracy by epoch\n",
    "#\n",
    "# plt.figure(figsize=(10, 5))\n",
    "# plt.plot(history.history['binary_accuracy'], label='Training accuracy')\n",
    "# plt.plot(history.history['val_binary_accuracy'], label='Testing accuracy')\n",
    "# plt.title('Training and Testing Accurary by Epoch', fontsize = 20)\n",
    "# plt.xlabel('Epoch', fontsize = 12)\n",
    "# plt.ylabel('Binary Accuracy', fontsize = 12)\n",
    "# plt.legend(fontsize = 12);"
   ],
   "metadata": {
    "collapsed": false
   }
  },
  {
   "cell_type": "code",
   "execution_count": 128,
   "outputs": [],
   "source": [
    "# train_score = model.evaluate(X_train_sc,\n",
    "#                              y_train,\n",
    "#                              verbose=2)\n",
    "# test_score = model.evaluate(X_test_sc,\n",
    "#                             y_test,\n",
    "#                             verbose=2)\n",
    "# labels = model.metrics_names\n",
    "#\n",
    "# print('=' * 50)\n",
    "# print(f'Sequential Model Training Accuracy: {train_score[1]}')\n",
    "# print(f'Sequential Model Testing Accuracy: {test_score[1]}')"
   ],
   "metadata": {
    "collapsed": false
   }
  },
  {
   "cell_type": "code",
   "execution_count": 129,
   "outputs": [],
   "source": [
    "# model.save('Models/sequential.h5')"
   ],
   "metadata": {
    "collapsed": false
   }
  },
  {
   "cell_type": "code",
   "execution_count": 130,
   "outputs": [],
   "source": [
    "loded_sequential_model = load_model('Models/sequential.h5')"
   ],
   "metadata": {
    "collapsed": false
   }
  },
  {
   "cell_type": "code",
   "execution_count": 131,
   "outputs": [
    {
     "name": "stdout",
     "output_type": "stream",
     "text": [
      "Model: \"sequential_1\"\n",
      "_________________________________________________________________\n",
      " Layer (type)                Output Shape              Param #   \n",
      "=================================================================\n",
      " dense_3 (Dense)             (None, 64)                5248      \n",
      "                                                                 \n",
      " dropout_2 (Dropout)         (None, 64)                0         \n",
      "                                                                 \n",
      " dense_4 (Dense)             (None, 32)                2080      \n",
      "                                                                 \n",
      " dropout_3 (Dropout)         (None, 32)                0         \n",
      "                                                                 \n",
      " dense_5 (Dense)             (None, 1)                 33        \n",
      "                                                                 \n",
      "=================================================================\n",
      "Total params: 7,361\n",
      "Trainable params: 7,361\n",
      "Non-trainable params: 0\n",
      "_________________________________________________________________\n"
     ]
    }
   ],
   "source": [
    "loded_sequential_model.summary()"
   ],
   "metadata": {
    "collapsed": false
   }
  },
  {
   "cell_type": "code",
   "execution_count": 132,
   "outputs": [
    {
     "name": "stdout",
     "output_type": "stream",
     "text": [
      "3172/3172 - 11s - loss: 0.0807 - binary_accuracy: 0.9733 - 11s/epoch - 4ms/step\n",
      "560/560 - 1s - loss: 0.0872 - binary_accuracy: 0.9720 - 1s/epoch - 2ms/step\n",
      "==================================================\n",
      "Sequential Model Training Accuracy: 0.9732552766799927\n",
      "Sequential Model Testing Accuracy: 0.9720236659049988\n"
     ]
    }
   ],
   "source": [
    "sq_nn_train_score = loded_sequential_model.evaluate(X_train_sc, y_train, verbose=2)\n",
    "sq_nn_test_score = loded_sequential_model.evaluate(X_test_sc, y_test, verbose=2)\n",
    "\n",
    "print('=' * 50)\n",
    "print(f'Sequential Model Training Accuracy: {sq_nn_train_score[1]}')\n",
    "print(f'Sequential Model Testing Accuracy: {sq_nn_test_score[1]}')"
   ],
   "metadata": {
    "collapsed": false
   }
  },
  {
   "cell_type": "markdown",
   "source": [
    "## Model Comparison\n",
    "\n",
    "**For convenience, only Hyperparameter Tuned (Grid Searched) models are used for comparison**"
   ],
   "metadata": {
    "collapsed": false
   }
  },
  {
   "cell_type": "code",
   "execution_count": 133,
   "outputs": [
    {
     "data": {
      "text/plain": "                 model  training_accuracy  testing_accuracy\n0             Baseline           0.629604          0.629607\n1  Logistic Regression           0.813556          0.812374\n2        Decision Tree           0.960839          0.934331\n3   Bagging Classifier           0.998729          0.964038\n4        Random Forest           0.922417          0.918584\n5       Neural Network           0.973255          0.972024",
      "text/html": "<div>\n<style scoped>\n    .dataframe tbody tr th:only-of-type {\n        vertical-align: middle;\n    }\n\n    .dataframe tbody tr th {\n        vertical-align: top;\n    }\n\n    .dataframe thead th {\n        text-align: right;\n    }\n</style>\n<table border=\"1\" class=\"dataframe\">\n  <thead>\n    <tr style=\"text-align: right;\">\n      <th></th>\n      <th>model</th>\n      <th>training_accuracy</th>\n      <th>testing_accuracy</th>\n    </tr>\n  </thead>\n  <tbody>\n    <tr>\n      <th>0</th>\n      <td>Baseline</td>\n      <td>0.629604</td>\n      <td>0.629607</td>\n    </tr>\n    <tr>\n      <th>1</th>\n      <td>Logistic Regression</td>\n      <td>0.813556</td>\n      <td>0.812374</td>\n    </tr>\n    <tr>\n      <th>2</th>\n      <td>Decision Tree</td>\n      <td>0.960839</td>\n      <td>0.934331</td>\n    </tr>\n    <tr>\n      <th>3</th>\n      <td>Bagging Classifier</td>\n      <td>0.998729</td>\n      <td>0.964038</td>\n    </tr>\n    <tr>\n      <th>4</th>\n      <td>Random Forest</td>\n      <td>0.922417</td>\n      <td>0.918584</td>\n    </tr>\n    <tr>\n      <th>5</th>\n      <td>Neural Network</td>\n      <td>0.973255</td>\n      <td>0.972024</td>\n    </tr>\n  </tbody>\n</table>\n</div>"
     },
     "execution_count": 133,
     "metadata": {},
     "output_type": "execute_result"
    }
   ],
   "source": [
    "comparison_df = pd.DataFrame(data=[('Baseline',dummy_training_score, dummy_testing_score),\n",
    "                                             ('Logistic Regression',lg_gs_training_accuaracy, lg_gs_testing_accuaracy),\n",
    "                                             ('Decision Tree', dt_gs_training_accuaracy, dt_gs_testing_accuaracy),\n",
    "                                             ('Bagging Classifier', bc_gs_training_accuaracy, bc_gs_testing_accuaracy),\n",
    "                                             ('Random Forest', rf_gs_training_accuaracy, rf_gs_testing_accuaracy),\n",
    "                                             ('Neural Network', sq_nn_train_score[1], sq_nn_test_score[1])],\n",
    "                                       columns=['model', 'training_accuracy', 'testing_accuracy'])\n",
    "comparison_df"
   ],
   "metadata": {
    "collapsed": false
   }
  },
  {
   "cell_type": "markdown",
   "source": [
    "**Baseline**\n",
    "- If we predict 0 - Not cancelled (most frequent value) as the prediction. It will give around 63% accuracy\n",
    "\n",
    "**Logistic Regression**\n",
    "- Model is not overfitting or underfitting (training score and testing score both close together).\n",
    "- Model testing accuracy is low when comparing with other models.\n",
    "\n",
    "**Decision Tree**\n",
    "- Model is slightly overfitting (training score is comparatively higher than testing score).\n",
    "- Model testing accuracy is good, but can not use this model because of overfitting\n",
    "\n",
    "**Bagging Classification**\n",
    "- Model is slightly overfitting (training score is comparatively higher than testing score).\n",
    "- Model testing accuracy is good, but can not use this model because of overfitting\n",
    "\n",
    "**Random Forest Classification**\n",
    "- Model is not overfitting or underfitting (training score and testing score both close together).\n",
    "- Model testing accuracy is good, we can use this model for classification\n",
    "\n",
    "**Neural Network - Sequential Model**\n",
    "- Model is not overfitting or underfitting (training score and testing score both close together).\n",
    "- Model testing accuracy is very high, we can use this model for classification.\n",
    "- Since neural network models are like 'Black boxes' it is hard ti interpret."
   ],
   "metadata": {
    "collapsed": false
   }
  },
  {
   "cell_type": "markdown",
   "source": [
    "## Model Evaluation"
   ],
   "metadata": {
    "collapsed": false
   }
  },
  {
   "cell_type": "markdown",
   "source": [
    "**Neural Network - Sequential Model**"
   ],
   "metadata": {
    "collapsed": false
   }
  },
  {
   "cell_type": "code",
   "execution_count": 134,
   "outputs": [
    {
     "name": "stdout",
     "output_type": "stream",
     "text": [
      "560/560 [==============================] - 2s 2ms/step\n"
     ]
    }
   ],
   "source": [
    "# Making predictions\n",
    "preds = loded_sequential_model.predict(X_test_sc)\n",
    "preds = preds >= 0.5\n",
    "\n",
    "conf_mat = confusion_matrix(y_test, preds)"
   ],
   "metadata": {
    "collapsed": false
   }
  },
  {
   "cell_type": "code",
   "execution_count": 135,
   "outputs": [
    {
     "data": {
      "text/plain": "<Figure size 216x216 with 1 Axes>",
      "image/png": "[encoded data removed]"
     },
     "metadata": {
      "needs_background": "light"
     },
     "output_type": "display_data"
    }
   ],
   "source": [
    "fig, ax = plt.subplots(figsize=(3, 3))\n",
    "ax = sns.heatmap(conf_mat,\n",
    "                 annot=True,\n",
    "                 cmap='Blues',\n",
    "                 cbar=False,\n",
    "                 fmt='d')\n",
    "\n",
    "plt.title(\"Confusion Matrix\")\n",
    "plt.ylabel(\"True Label\")\n",
    "plt.xlabel(\"Predicted Label\");"
   ],
   "metadata": {
    "collapsed": false
   }
  },
  {
   "cell_type": "markdown",
   "source": [
    "* True Positive (Predicted cancelled and actually cancelled) - 6181\n",
    "* False Positive (Predicted cancelled and actually not cancelled) - 49\n",
    "* True Negative (Predicted not cancelled and actually not cancelled) - 11226\n",
    "* False Negative (Predicted not cancelled and actually cancelled) - 452"
   ],
   "metadata": {
    "collapsed": false
   }
  },
  {
   "cell_type": "code",
   "execution_count": 136,
   "outputs": [
    {
     "data": {
      "text/plain": "0    75166\n1    44220\nName: is_canceled, dtype: int64"
     },
     "execution_count": 136,
     "metadata": {},
     "output_type": "execute_result"
    }
   ],
   "source": [
    "hotel_booking['is_canceled'].value_counts()"
   ],
   "metadata": {
    "collapsed": false
   }
  },
  {
   "cell_type": "code",
   "execution_count": 137,
   "outputs": [
    {
     "name": "stdout",
     "output_type": "stream",
     "text": [
      "              precision    recall  f1-score   support\n",
      "\n",
      "           0       0.96      1.00      0.98     11275\n",
      "           1       0.99      0.93      0.96      6633\n",
      "\n",
      "    accuracy                           0.97     17908\n",
      "   macro avg       0.98      0.96      0.97     17908\n",
      "weighted avg       0.97      0.97      0.97     17908\n",
      "\n"
     ]
    }
   ],
   "source": [
    "print(classification_report(y_test, preds))"
   ],
   "metadata": {
    "collapsed": false
   }
  },
  {
   "cell_type": "markdown",
   "source": [
    "* In our dataset we have slightly unbalance classes (Not cancelled - 75116, Cancelled - 44220)\n",
    "* Therefore we can not use `accuracy` as good measure\n",
    "* We have to focus on `recall` and `precision`\n",
    "* In our model `false negatives` are **worse than** `false positives` we should aim for higher `recall`"
   ],
   "metadata": {
    "collapsed": false
   }
  },
  {
   "cell_type": "code",
   "execution_count": null,
   "outputs": [],
   "source": [],
   "metadata": {
    "collapsed": false
   }
  }
 ],
 "metadata": {
  "kernelspec": {
   "display_name": "Python 3",
   "language": "python",
   "name": "python3"
  },
  "language_info": {
   "codemirror_mode": {
    "name": "ipython",
    "version": 2
   },
   "file_extension": ".py",
   "mimetype": "text/x-python",
   "name": "python",
   "nbconvert_exporter": "python",
   "pygments_lexer": "ipython2",
   "version": "2.7.6"
  }
 },
 "nbformat": 4,
 "nbformat_minor": 0
}
